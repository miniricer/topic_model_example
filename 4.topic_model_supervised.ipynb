{
 "cells": [
  {
   "cell_type": "markdown",
   "id": "1d0df1f4",
   "metadata": {},
   "source": [
    "## 1. 載入資料"
   ]
  },
  {
   "cell_type": "code",
   "execution_count": 10,
   "id": "59703d0d",
   "metadata": {},
   "outputs": [
    {
     "data": {
      "text/html": [
       "<div>\n",
       "<style scoped>\n",
       "    .dataframe tbody tr th:only-of-type {\n",
       "        vertical-align: middle;\n",
       "    }\n",
       "\n",
       "    .dataframe tbody tr th {\n",
       "        vertical-align: top;\n",
       "    }\n",
       "\n",
       "    .dataframe thead th {\n",
       "        text-align: right;\n",
       "    }\n",
       "</style>\n",
       "<table border=\"1\" class=\"dataframe\">\n",
       "  <thead>\n",
       "    <tr style=\"text-align: right;\">\n",
       "      <th></th>\n",
       "      <th>ids</th>\n",
       "      <th>contents</th>\n",
       "      <th>num_word</th>\n",
       "      <th>topics</th>\n",
       "    </tr>\n",
       "  </thead>\n",
       "  <tbody>\n",
       "    <tr>\n",
       "      <th>0</th>\n",
       "      <td>life_0001</td>\n",
       "      <td>豪 大雨 造成 南部 地區 重大 災情 除了 淹水 災民 收拾 家園 很 辛苦 也 要 帶 ...</td>\n",
       "      <td>203</td>\n",
       "      <td>life</td>\n",
       "    </tr>\n",
       "    <tr>\n",
       "      <th>1</th>\n",
       "      <td>sports_0002</td>\n",
       "      <td>年 全國 運動會 月份 將在 桃園 登場 主辦 的 桃園 市政府 找來 男性 時尚 媒體 跨...</td>\n",
       "      <td>161</td>\n",
       "      <td>sports</td>\n",
       "    </tr>\n",
       "    <tr>\n",
       "      <th>2</th>\n",
       "      <td>international_0003</td>\n",
       "      <td>月底 美台 國防 工業會 議將 在 美國 登場國 防部 證實 確實 有 收到 邀請 函 但國...</td>\n",
       "      <td>80</td>\n",
       "      <td>international</td>\n",
       "    </tr>\n",
       "  </tbody>\n",
       "</table>\n",
       "</div>"
      ],
      "text/plain": [
       "                  ids                                           contents  \\\n",
       "0           life_0001  豪 大雨 造成 南部 地區 重大 災情 除了 淹水 災民 收拾 家園 很 辛苦 也 要 帶 ...   \n",
       "1         sports_0002  年 全國 運動會 月份 將在 桃園 登場 主辦 的 桃園 市政府 找來 男性 時尚 媒體 跨...   \n",
       "2  international_0003  月底 美台 國防 工業會 議將 在 美國 登場國 防部 證實 確實 有 收到 邀請 函 但國...   \n",
       "\n",
       "   num_word         topics  \n",
       "0       203           life  \n",
       "1       161         sports  \n",
       "2        80  international  "
      ]
     },
     "execution_count": 10,
     "metadata": {},
     "output_type": "execute_result"
    }
   ],
   "source": [
    "import pandas as pd\n",
    "data_seg = pd.read_pickle('data_pickle/clean_data_segment.pkl')\n",
    "data_seg.head(3)"
   ]
  },
  {
   "cell_type": "code",
   "execution_count": 11,
   "id": "7c279dd5",
   "metadata": {},
   "outputs": [
    {
     "data": {
      "text/plain": [
       "'豪 大雨 造成 南部 地區 重大 災情 除了 淹水 災民 收拾 家園 很 辛苦 也 要 帶 您 來 看到 辛苦 的 清潔 隊員 台南市 環保局 統計 麻豆 有六個 里 這回 是 淹水 重災區 光是 垃圾 清運量 就 高達 一千多 噸 而且 災後 文旦 大量 落果 現在 都 堆 在 馬 路旁 也 讓 清潔 隊員載 運 的 很 辛苦 工作量 是 平常 的 五倍 之多 一袋 袋 文旦 落果 堆 在 路旁 堆成 了 小山 高清 潔隊員 和 國軍忙 著清運 卻 不見 果農 出面 就 有 清潔 隊員 忍不住 網 吐苦水 說 大家 的 心情 都 很 低落 我們 從 家具 到 落果 一直 清 但 農民 你 們 的 生財 器具 也 不要 完全 落 在 我們 清潔 隊員 身上 好 嗎 因為 這陣子 清潔 隊員 的 工作量 爆增 了 五倍 麻豆 是 文旦 的 重要 產地 之前 日連日 大雨 造成 當地 六個 里 成 了 淹水 重災區 家家 戶戶 都 泡 在 水裡 文旦 也 被 水淹 沒 好不容易 大水 退去 農民才 有 時間 清理 落果 也 表示 很 感謝 清潔 隊員 台南市 環保局 呼籲 農民 若需 清理 落果 可以 先將 落果 集中 後 打電話 通知 清潔隊 他們 很 願意 幫農民 的 忙 共體 時 艱盡速 協助 居民 重建 家園'"
      ]
     },
     "execution_count": 11,
     "metadata": {},
     "output_type": "execute_result"
    }
   ],
   "source": [
    "data_seg['contents'][0]"
   ]
  },
  {
   "cell_type": "markdown",
   "id": "6b86ed1b",
   "metadata": {},
   "source": [
    "### 1.1 將 topics 成爲 labels"
   ]
  },
  {
   "cell_type": "code",
   "execution_count": 12,
   "id": "c612db06",
   "metadata": {},
   "outputs": [
    {
     "data": {
      "text/html": [
       "<div>\n",
       "<style scoped>\n",
       "    .dataframe tbody tr th:only-of-type {\n",
       "        vertical-align: middle;\n",
       "    }\n",
       "\n",
       "    .dataframe tbody tr th {\n",
       "        vertical-align: top;\n",
       "    }\n",
       "\n",
       "    .dataframe thead th {\n",
       "        text-align: right;\n",
       "    }\n",
       "</style>\n",
       "<table border=\"1\" class=\"dataframe\">\n",
       "  <thead>\n",
       "    <tr style=\"text-align: right;\">\n",
       "      <th></th>\n",
       "      <th>ids</th>\n",
       "      <th>contents</th>\n",
       "      <th>num_word</th>\n",
       "      <th>topics</th>\n",
       "      <th>labels</th>\n",
       "    </tr>\n",
       "  </thead>\n",
       "  <tbody>\n",
       "    <tr>\n",
       "      <th>0</th>\n",
       "      <td>life_0001</td>\n",
       "      <td>豪 大雨 造成 南部 地區 重大 災情 除了 淹水 災民 收拾 家園 很 辛苦 也 要 帶 ...</td>\n",
       "      <td>203</td>\n",
       "      <td>life</td>\n",
       "      <td>5</td>\n",
       "    </tr>\n",
       "    <tr>\n",
       "      <th>1</th>\n",
       "      <td>sports_0002</td>\n",
       "      <td>年 全國 運動會 月份 將在 桃園 登場 主辦 的 桃園 市政府 找來 男性 時尚 媒體 跨...</td>\n",
       "      <td>161</td>\n",
       "      <td>sports</td>\n",
       "      <td>10</td>\n",
       "    </tr>\n",
       "    <tr>\n",
       "      <th>2</th>\n",
       "      <td>international_0003</td>\n",
       "      <td>月底 美台 國防 工業會 議將 在 美國 登場國 防部 證實 確實 有 收到 邀請 函 但國...</td>\n",
       "      <td>80</td>\n",
       "      <td>international</td>\n",
       "      <td>4</td>\n",
       "    </tr>\n",
       "  </tbody>\n",
       "</table>\n",
       "</div>"
      ],
      "text/plain": [
       "                  ids                                           contents  \\\n",
       "0           life_0001  豪 大雨 造成 南部 地區 重大 災情 除了 淹水 災民 收拾 家園 很 辛苦 也 要 帶 ...   \n",
       "1         sports_0002  年 全國 運動會 月份 將在 桃園 登場 主辦 的 桃園 市政府 找來 男性 時尚 媒體 跨...   \n",
       "2  international_0003  月底 美台 國防 工業會 議將 在 美國 登場國 防部 證實 確實 有 收到 邀請 函 但國...   \n",
       "\n",
       "   num_word         topics  labels  \n",
       "0       203           life       5  \n",
       "1       161         sports      10  \n",
       "2        80  international       4  "
      ]
     },
     "execution_count": 12,
     "metadata": {},
     "output_type": "execute_result"
    }
   ],
   "source": [
    "from sklearn.preprocessing import LabelEncoder\n",
    "labelencoder = LabelEncoder()\n",
    "data_seg['labels'] = labelencoder.fit_transform(data_df['topics'])\n",
    "data_seg.head(3)"
   ]
  },
  {
   "cell_type": "markdown",
   "id": "eb9652c2",
   "metadata": {},
   "source": [
    "### 1.2 資料分成 訓練集 測試集"
   ]
  },
  {
   "cell_type": "code",
   "execution_count": 14,
   "id": "a70e59ae",
   "metadata": {},
   "outputs": [],
   "source": [
    "from sklearn.model_selection import train_test_split"
   ]
  },
  {
   "cell_type": "code",
   "execution_count": 15,
   "id": "dde293ef",
   "metadata": {},
   "outputs": [],
   "source": [
    "X_train, X_test, y_train, y_test = train_test_split(data_seg['contents'],data_seg['labels'], test_size=0.2, random_state=42)"
   ]
  },
  {
   "cell_type": "code",
   "execution_count": 16,
   "id": "b251d908",
   "metadata": {},
   "outputs": [
    {
     "data": {
      "text/plain": [
       "(201,)"
      ]
     },
     "execution_count": 16,
     "metadata": {},
     "output_type": "execute_result"
    }
   ],
   "source": [
    "#print(X_test.values[0]) #\n",
    "X_test.shape"
   ]
  },
  {
   "cell_type": "markdown",
   "id": "f2199dc3",
   "metadata": {},
   "source": [
    "## 2. 載入 word2vec 模型"
   ]
  },
  {
   "cell_type": "code",
   "execution_count": 7,
   "id": "1bf477e5",
   "metadata": {},
   "outputs": [],
   "source": [
    "from gensim.models import Word2Vec"
   ]
  },
  {
   "cell_type": "code",
   "execution_count": 8,
   "id": "3b78b460",
   "metadata": {},
   "outputs": [],
   "source": [
    "w2v_model_path = f\"model/word2vec/word2vec.zh.300.model\"\n",
    "w2v_model = Word2Vec.load(w2v_model_path)"
   ]
  },
  {
   "cell_type": "code",
   "execution_count": 9,
   "id": "f47f142f",
   "metadata": {},
   "outputs": [
    {
     "name": "stdout",
     "output_type": "stream",
     "text": [
      "(1138562, 300)\n"
     ]
    }
   ],
   "source": [
    "print(w2v_model.wv.vectors.shape)"
   ]
  },
  {
   "cell_type": "code",
   "execution_count": 10,
   "id": "65c400d2",
   "metadata": {},
   "outputs": [
    {
     "name": "stdout",
     "output_type": "stream",
     "text": [
      "(300,)\n"
     ]
    },
    {
     "data": {
      "text/plain": [
       "array([-0.15254694, -1.7895197 ,  2.8389933 ,  0.30419526,  0.94147015,\n",
       "       -0.924163  ,  0.05298484, -0.13174261, -1.4274364 , -0.85435706,\n",
       "        1.8479271 , -1.0273514 ,  0.05875092,  1.6739838 ,  2.3618689 ,\n",
       "        2.0175905 , -1.5817889 , -0.8472086 ,  1.1092311 , -0.24629189,\n",
       "        0.49799377,  0.36100635, -0.281036  , -0.5806378 , -1.8780046 ,\n",
       "        0.2837012 , -0.11682022, -0.22787744,  0.11489099, -0.14591609,\n",
       "       -0.20482585, -1.1253157 , -0.01348399, -1.0098934 ,  3.2184417 ,\n",
       "       -0.7147375 , -0.7956163 ,  1.9969889 ,  0.14035068,  3.6188982 ,\n",
       "        1.7953273 , -1.4445941 ,  0.37768763, -0.77543026, -0.69721234,\n",
       "        0.8814372 , -0.46651804,  1.7810897 ,  1.9077462 ,  0.33889568,\n",
       "        2.4865808 ,  0.03023988, -1.7290001 ,  0.52984065,  1.971243  ,\n",
       "        1.042733  , -2.2933383 , -0.15407254,  1.0061789 ,  0.36432067,\n",
       "       -0.12965468,  0.22315088, -0.6530562 ,  0.5096923 ,  1.6476531 ,\n",
       "       -2.1283326 , -0.41265398,  3.710713  , -2.182122  , -1.2232319 ,\n",
       "       -0.13470766,  1.6847824 ,  0.3732413 ,  0.38064095,  3.7629342 ,\n",
       "        0.5054348 ,  1.7662022 ,  0.3355076 , -0.82843256, -0.01899206,\n",
       "        1.3599714 , -0.3263021 ,  0.5632072 , -1.6275458 ,  0.18896504,\n",
       "       -2.8486328 ,  0.4079449 ,  0.76394415,  0.39884079, -1.1291069 ,\n",
       "        1.616785  , -2.2050192 , -0.68297696, -0.7727057 ,  1.8106886 ,\n",
       "        0.3693791 , -1.4199953 ,  0.9511317 ,  0.3185586 , -2.787385  ,\n",
       "       -2.046976  ,  1.1417929 ,  0.65914726, -0.09776347,  1.291978  ,\n",
       "        0.9779469 , -2.1436791 ,  1.177742  ,  2.2546558 , -1.7125031 ,\n",
       "       -0.95545936, -0.11377065, -1.223585  , -1.3839793 , -1.6620296 ,\n",
       "        0.09213931,  0.16552962,  2.6440482 , -0.19194634,  0.38509196,\n",
       "        1.714671  , -0.17097043,  0.23664996,  1.3536583 ,  2.3723216 ,\n",
       "       -3.0491447 , -0.92790735, -1.3566401 , -1.283516  ,  0.4361322 ,\n",
       "        3.0983083 , -0.06008134, -2.1489894 , -0.470945  ,  0.28165355,\n",
       "        1.0654688 ,  0.7605213 , -0.47257465, -0.8030565 , -1.4145786 ,\n",
       "       -1.7550275 ,  2.088863  , -3.5372381 ,  1.4158623 ,  0.3096819 ,\n",
       "        0.704056  , -1.371443  ,  1.6208903 , -1.2401619 , -0.13551526,\n",
       "       -1.9005125 ,  0.8854841 ,  0.4481448 , -0.4172336 , -1.206034  ,\n",
       "        0.23772846, -0.5170386 , -1.966441  , -0.44706354,  0.34252086,\n",
       "        1.6452466 ,  0.10298532, -0.6640831 , -0.80406773, -1.0047605 ,\n",
       "        0.25708237, -1.2658246 ,  0.72502005, -0.16557129, -2.1745164 ,\n",
       "       -0.37656462, -1.1152672 ,  1.0244526 ,  1.1565366 , -1.3018371 ,\n",
       "       -0.61735666, -0.47080624,  1.0154963 ,  0.27704978, -0.43282175,\n",
       "       -2.8569677 ,  0.0108066 , -1.0534698 ,  0.8483542 , -2.0334537 ,\n",
       "       -1.710315  , -1.3449622 ,  2.2180285 , -0.22329706,  0.3695973 ,\n",
       "       -1.5329542 , -0.46323976, -1.4827193 ,  0.73403674, -0.34677625,\n",
       "        1.0670941 ,  0.88510114, -1.906598  , -0.5413286 , -3.2423143 ,\n",
       "       -0.09743989, -3.6904986 , -2.0051272 ,  0.8977296 , -0.39034557,\n",
       "        0.43446434, -2.1710713 ,  0.86995924, -0.42781776, -0.79106665,\n",
       "       -1.8506856 ,  0.37321958,  1.2932605 , -1.6092048 , -1.5371683 ,\n",
       "       -0.3963642 ,  0.39420712, -1.6739159 ,  0.9763718 , -0.8025273 ,\n",
       "        0.2590659 ,  2.4658556 ,  0.2761859 ,  2.3008378 , -0.7928667 ,\n",
       "       -0.5515492 , -2.0805933 ,  0.14855805,  3.2365885 , -3.3151088 ,\n",
       "       -1.3501651 ,  2.1639783 , -1.2938559 , -2.1719165 ,  0.03638348,\n",
       "       -0.63085186, -2.1078658 ,  1.6141753 , -0.09968105, -2.897564  ,\n",
       "       -2.0326395 ,  2.3923492 ,  2.1948044 ,  1.0531849 ,  1.6850697 ,\n",
       "       -2.2827451 , -1.0238177 , -0.9736342 ,  0.47620815, -0.53191006,\n",
       "        2.4831314 , -1.8135078 , -0.09655156, -0.26880732, -1.5746521 ,\n",
       "        3.447743  ,  0.7701042 , -2.079731  , -1.1631368 ,  0.29982182,\n",
       "       -0.07716776, -3.0327997 ,  3.0748208 , -1.4359124 ,  1.0085474 ,\n",
       "        0.0964113 ,  0.32251447,  3.6297605 , -1.2651255 , -0.76287466,\n",
       "        0.31288242,  0.9797535 ,  0.22678709,  0.11903057,  0.6259719 ,\n",
       "       -2.007877  , -0.33391798, -1.288079  ,  1.391751  ,  0.90182006,\n",
       "        1.5843096 , -0.94183683, -0.56292737, -1.1241164 , -1.5128164 ,\n",
       "       -1.3753456 , -2.1157842 ,  1.3935559 , -1.5951293 ,  1.7871724 ,\n",
       "       -1.3674058 , -0.77202106,  0.08307242,  0.7245565 ,  2.0208385 ,\n",
       "       -0.72172374, -1.9296253 ,  0.6796764 ,  2.4959662 , -0.91734695],\n",
       "      dtype=float32)"
      ]
     },
     "execution_count": 10,
     "metadata": {},
     "output_type": "execute_result"
    }
   ],
   "source": [
    "vec = w2v_model.wv['數學家']\n",
    "print(vec.shape)\n",
    "vec "
   ]
  },
  {
   "cell_type": "code",
   "execution_count": 11,
   "id": "bade38d3",
   "metadata": {},
   "outputs": [
    {
     "name": "stdout",
     "output_type": "stream",
     "text": [
      "\"Key '這肯定沒見過 ' not present\"\n"
     ]
    }
   ],
   "source": [
    "word = \"這肯定沒見過 \"\n",
    "\n",
    "# 若強行取值會報錯\n",
    "try:\n",
    "    vec = w2v_model.wv[word]\n",
    "except KeyError as e:\n",
    "    print(e)"
   ]
  },
  {
   "cell_type": "code",
   "execution_count": 12,
   "id": "f6196c80",
   "metadata": {},
   "outputs": [
    {
     "data": {
      "text/plain": [
       "[('飲品', 0.7986035943031311),\n",
       " ('果汁', 0.6965157389640808),\n",
       " ('含酒精', 0.6784195303916931),\n",
       " ('提神', 0.6489840149879456),\n",
       " ('酒精類', 0.6488814353942871),\n",
       " ('罐裝', 0.6478315591812134),\n",
       " ('軟飲料', 0.6374701857566833),\n",
       " ('啤酒', 0.6282455921173096),\n",
       " ('酒類', 0.6256542801856995),\n",
       " ('優格', 0.6210787892341614)]"
      ]
     },
     "execution_count": 12,
     "metadata": {},
     "output_type": "execute_result"
    }
   ],
   "source": [
    "w2v_model.wv.most_similar(\"飲料\", topn=10)"
   ]
  },
  {
   "cell_type": "markdown",
   "id": "1f389f28",
   "metadata": {},
   "source": [
    "## 3. 將資料向量化"
   ]
  },
  {
   "cell_type": "code",
   "execution_count": 13,
   "id": "746c7375",
   "metadata": {},
   "outputs": [],
   "source": [
    "import numpy as np\n",
    "def vectorize(sentence):\n",
    "    words = sentence.split()\n",
    "    words_vecs = [w2v_model.wv[word] for word in words if word in w2v_model.wv]\n",
    "    if len(words_vecs) == 0:\n",
    "        return np.zeros(300)\n",
    "    words_vecs = np.array(words_vecs)\n",
    "    return words_vecs.mean(axis=0)\n",
    "\n",
    "X_train_v = np.array([vectorize(sentence) for sentence in X_train], dtype=\"object\")\n",
    "X_test_v = np.array([vectorize(sentence) for sentence in X_test], dtype=\"object\")"
   ]
  },
  {
   "cell_type": "code",
   "execution_count": 14,
   "id": "4d3f4371",
   "metadata": {},
   "outputs": [
    {
     "data": {
      "text/plain": [
       "(201, 300)"
      ]
     },
     "execution_count": 14,
     "metadata": {},
     "output_type": "execute_result"
    }
   ],
   "source": [
    "X_test_v.shape"
   ]
  },
  {
   "cell_type": "markdown",
   "id": "f76a8d0e",
   "metadata": {},
   "source": [
    "## 4.訓練線性模型"
   ]
  },
  {
   "cell_type": "markdown",
   "id": "a55fce3f",
   "metadata": {},
   "source": [
    "![logistic regression](https://miro.medium.com/v2/resize:fit:640/format:webp/1*fQNbPl3NY4antjKJPeuxwA.png)\n",
    "ref : [Logistic Regression Using Python](https://medium.com/@abinmj656/logistic-regression-using-python-28a269152f53) by [\n",
    "Abin Joy](https://medium.com/@abinmj656?source=post_page-----28a269152f53--------------------------------)"
   ]
  },
  {
   "cell_type": "code",
   "execution_count": 15,
   "id": "4611bdba",
   "metadata": {},
   "outputs": [
    {
     "data": {
      "text/html": [
       "<style>#sk-container-id-1 {color: black;}#sk-container-id-1 pre{padding: 0;}#sk-container-id-1 div.sk-toggleable {background-color: white;}#sk-container-id-1 label.sk-toggleable__label {cursor: pointer;display: block;width: 100%;margin-bottom: 0;padding: 0.3em;box-sizing: border-box;text-align: center;}#sk-container-id-1 label.sk-toggleable__label-arrow:before {content: \"▸\";float: left;margin-right: 0.25em;color: #696969;}#sk-container-id-1 label.sk-toggleable__label-arrow:hover:before {color: black;}#sk-container-id-1 div.sk-estimator:hover label.sk-toggleable__label-arrow:before {color: black;}#sk-container-id-1 div.sk-toggleable__content {max-height: 0;max-width: 0;overflow: hidden;text-align: left;background-color: #f0f8ff;}#sk-container-id-1 div.sk-toggleable__content pre {margin: 0.2em;color: black;border-radius: 0.25em;background-color: #f0f8ff;}#sk-container-id-1 input.sk-toggleable__control:checked~div.sk-toggleable__content {max-height: 200px;max-width: 100%;overflow: auto;}#sk-container-id-1 input.sk-toggleable__control:checked~label.sk-toggleable__label-arrow:before {content: \"▾\";}#sk-container-id-1 div.sk-estimator input.sk-toggleable__control:checked~label.sk-toggleable__label {background-color: #d4ebff;}#sk-container-id-1 div.sk-label input.sk-toggleable__control:checked~label.sk-toggleable__label {background-color: #d4ebff;}#sk-container-id-1 input.sk-hidden--visually {border: 0;clip: rect(1px 1px 1px 1px);clip: rect(1px, 1px, 1px, 1px);height: 1px;margin: -1px;overflow: hidden;padding: 0;position: absolute;width: 1px;}#sk-container-id-1 div.sk-estimator {font-family: monospace;background-color: #f0f8ff;border: 1px dotted black;border-radius: 0.25em;box-sizing: border-box;margin-bottom: 0.5em;}#sk-container-id-1 div.sk-estimator:hover {background-color: #d4ebff;}#sk-container-id-1 div.sk-parallel-item::after {content: \"\";width: 100%;border-bottom: 1px solid gray;flex-grow: 1;}#sk-container-id-1 div.sk-label:hover label.sk-toggleable__label {background-color: #d4ebff;}#sk-container-id-1 div.sk-serial::before {content: \"\";position: absolute;border-left: 1px solid gray;box-sizing: border-box;top: 0;bottom: 0;left: 50%;z-index: 0;}#sk-container-id-1 div.sk-serial {display: flex;flex-direction: column;align-items: center;background-color: white;padding-right: 0.2em;padding-left: 0.2em;position: relative;}#sk-container-id-1 div.sk-item {position: relative;z-index: 1;}#sk-container-id-1 div.sk-parallel {display: flex;align-items: stretch;justify-content: center;background-color: white;position: relative;}#sk-container-id-1 div.sk-item::before, #sk-container-id-1 div.sk-parallel-item::before {content: \"\";position: absolute;border-left: 1px solid gray;box-sizing: border-box;top: 0;bottom: 0;left: 50%;z-index: -1;}#sk-container-id-1 div.sk-parallel-item {display: flex;flex-direction: column;z-index: 1;position: relative;background-color: white;}#sk-container-id-1 div.sk-parallel-item:first-child::after {align-self: flex-end;width: 50%;}#sk-container-id-1 div.sk-parallel-item:last-child::after {align-self: flex-start;width: 50%;}#sk-container-id-1 div.sk-parallel-item:only-child::after {width: 0;}#sk-container-id-1 div.sk-dashed-wrapped {border: 1px dashed gray;margin: 0 0.4em 0.5em 0.4em;box-sizing: border-box;padding-bottom: 0.4em;background-color: white;}#sk-container-id-1 div.sk-label label {font-family: monospace;font-weight: bold;display: inline-block;line-height: 1.2em;}#sk-container-id-1 div.sk-label-container {text-align: center;}#sk-container-id-1 div.sk-container {/* jupyter's `normalize.less` sets `[hidden] { display: none; }` but bootstrap.min.css set `[hidden] { display: none !important; }` so we also need the `!important` here to be able to override the default hidden behavior on the sphinx rendered scikit-learn.org. See: https://github.com/scikit-learn/scikit-learn/issues/21755 */display: inline-block !important;position: relative;}#sk-container-id-1 div.sk-text-repr-fallback {display: none;}</style><div id=\"sk-container-id-1\" class=\"sk-top-container\"><div class=\"sk-text-repr-fallback\"><pre>LogisticRegression(max_iter=500)</pre><b>In a Jupyter environment, please rerun this cell to show the HTML representation or trust the notebook. <br />On GitHub, the HTML representation is unable to render, please try loading this page with nbviewer.org.</b></div><div class=\"sk-container\" hidden><div class=\"sk-item\"><div class=\"sk-estimator sk-toggleable\"><input class=\"sk-toggleable__control sk-hidden--visually\" id=\"sk-estimator-id-1\" type=\"checkbox\" checked><label for=\"sk-estimator-id-1\" class=\"sk-toggleable__label sk-toggleable__label-arrow\">LogisticRegression</label><div class=\"sk-toggleable__content\"><pre>LogisticRegression(max_iter=500)</pre></div></div></div></div></div>"
      ],
      "text/plain": [
       "LogisticRegression(max_iter=500)"
      ]
     },
     "execution_count": 15,
     "metadata": {},
     "output_type": "execute_result"
    }
   ],
   "source": [
    "from sklearn.linear_model import LogisticRegression\n",
    "\n",
    "clf = LogisticRegression(solver='lbfgs', max_iter=500)\n",
    "clf.fit(X_train_v, y_train)"
   ]
  },
  {
   "cell_type": "markdown",
   "id": "2a4949aa",
   "metadata": {},
   "source": [
    "# 5.評估模型"
   ]
  },
  {
   "cell_type": "code",
   "execution_count": 16,
   "id": "7a6a30f5",
   "metadata": {},
   "outputs": [
    {
     "name": "stdout",
     "output_type": "stream",
     "text": [
      "Accuracy: 0.5472636815920398\n",
      "Precision: 0.5472636815920398\n",
      "Recall: 0.5472636815920398\n",
      "F1 score: 0.5472636815920398\n"
     ]
    }
   ],
   "source": [
    "from sklearn.metrics import accuracy_score, precision_score, recall_score, f1_score\n",
    "\n",
    "y_pred = clf.predict(X_test_v)\n",
    "print('Accuracy:', accuracy_score(y_test, y_pred))\n",
    "print('Precision:', precision_score(y_test, y_pred, average='micro'))\n",
    "print('Recall:', recall_score(y_test, y_pred, average='micro'))\n",
    "print('F1 score:', f1_score(y_test, y_pred, average='micro'))"
   ]
  },
  {
   "cell_type": "code",
   "execution_count": 18,
   "id": "1a1ef1c9",
   "metadata": {},
   "outputs": [
    {
     "data": {
      "text/plain": [
       "array([ 9,  5,  4,  4,  4,  8,  6,  8,  8,  8,  7,  3,  9,  5,  9,  4,  5,\n",
       "        6,  5,  9,  4,  6,  5,  3,  5,  5,  9,  6,  5,  5,  8,  5,  5,  5,\n",
       "        5,  9,  5,  9,  5,  7,  5,  8,  4,  5,  8,  0,  9,  9,  9,  5,  9,\n",
       "        3,  5,  5,  6,  5,  5,  9,  5,  8,  6,  9,  8,  5,  8,  4,  9,  5,\n",
       "        5,  0,  8,  9,  8, 11,  9,  5,  5,  5,  5,  5,  7,  5,  5,  4,  4,\n",
       "        4,  9,  2,  2,  5,  5, 11,  5,  9,  9,  5,  5,  5,  6,  5,  9,  6,\n",
       "        5,  6,  9,  6,  3,  5,  9,  6,  7,  4,  3, 11,  5,  4,  5,  4,  5,\n",
       "        9,  4,  4,  5,  5,  4,  6,  5, 11,  8,  5,  5,  3,  5,  9,  3,  6,\n",
       "        5,  9,  4,  8, 11, 10,  9,  3,  9, 10, 11,  5,  5,  5,  5,  9,  6,\n",
       "        3, 11,  7,  4,  8,  4,  9,  5,  4,  4,  3,  4,  5,  5, 11,  4,  8,\n",
       "        8,  5,  5,  9,  5,  9,  6,  9,  5,  5,  5,  5,  5,  5,  8,  5,  9,\n",
       "        5,  8,  3,  5,  8,  5,  4, 11,  5,  0,  5,  5,  4,  5])"
      ]
     },
     "execution_count": 18,
     "metadata": {},
     "output_type": "execute_result"
    }
   ],
   "source": [
    "y_pred"
   ]
  },
  {
   "cell_type": "markdown",
   "id": "e68e4a4a",
   "metadata": {},
   "source": [
    "# 6.其他模型\n",
    "參考 [sckit linear model](https://scikit-learn.org/stable/modules/linear_model.html)"
   ]
  },
  {
   "cell_type": "code",
   "execution_count": 19,
   "id": "734c5383",
   "metadata": {},
   "outputs": [
    {
     "data": {
      "text/html": [
       "<style>#sk-container-id-2 {color: black;}#sk-container-id-2 pre{padding: 0;}#sk-container-id-2 div.sk-toggleable {background-color: white;}#sk-container-id-2 label.sk-toggleable__label {cursor: pointer;display: block;width: 100%;margin-bottom: 0;padding: 0.3em;box-sizing: border-box;text-align: center;}#sk-container-id-2 label.sk-toggleable__label-arrow:before {content: \"▸\";float: left;margin-right: 0.25em;color: #696969;}#sk-container-id-2 label.sk-toggleable__label-arrow:hover:before {color: black;}#sk-container-id-2 div.sk-estimator:hover label.sk-toggleable__label-arrow:before {color: black;}#sk-container-id-2 div.sk-toggleable__content {max-height: 0;max-width: 0;overflow: hidden;text-align: left;background-color: #f0f8ff;}#sk-container-id-2 div.sk-toggleable__content pre {margin: 0.2em;color: black;border-radius: 0.25em;background-color: #f0f8ff;}#sk-container-id-2 input.sk-toggleable__control:checked~div.sk-toggleable__content {max-height: 200px;max-width: 100%;overflow: auto;}#sk-container-id-2 input.sk-toggleable__control:checked~label.sk-toggleable__label-arrow:before {content: \"▾\";}#sk-container-id-2 div.sk-estimator input.sk-toggleable__control:checked~label.sk-toggleable__label {background-color: #d4ebff;}#sk-container-id-2 div.sk-label input.sk-toggleable__control:checked~label.sk-toggleable__label {background-color: #d4ebff;}#sk-container-id-2 input.sk-hidden--visually {border: 0;clip: rect(1px 1px 1px 1px);clip: rect(1px, 1px, 1px, 1px);height: 1px;margin: -1px;overflow: hidden;padding: 0;position: absolute;width: 1px;}#sk-container-id-2 div.sk-estimator {font-family: monospace;background-color: #f0f8ff;border: 1px dotted black;border-radius: 0.25em;box-sizing: border-box;margin-bottom: 0.5em;}#sk-container-id-2 div.sk-estimator:hover {background-color: #d4ebff;}#sk-container-id-2 div.sk-parallel-item::after {content: \"\";width: 100%;border-bottom: 1px solid gray;flex-grow: 1;}#sk-container-id-2 div.sk-label:hover label.sk-toggleable__label {background-color: #d4ebff;}#sk-container-id-2 div.sk-serial::before {content: \"\";position: absolute;border-left: 1px solid gray;box-sizing: border-box;top: 0;bottom: 0;left: 50%;z-index: 0;}#sk-container-id-2 div.sk-serial {display: flex;flex-direction: column;align-items: center;background-color: white;padding-right: 0.2em;padding-left: 0.2em;position: relative;}#sk-container-id-2 div.sk-item {position: relative;z-index: 1;}#sk-container-id-2 div.sk-parallel {display: flex;align-items: stretch;justify-content: center;background-color: white;position: relative;}#sk-container-id-2 div.sk-item::before, #sk-container-id-2 div.sk-parallel-item::before {content: \"\";position: absolute;border-left: 1px solid gray;box-sizing: border-box;top: 0;bottom: 0;left: 50%;z-index: -1;}#sk-container-id-2 div.sk-parallel-item {display: flex;flex-direction: column;z-index: 1;position: relative;background-color: white;}#sk-container-id-2 div.sk-parallel-item:first-child::after {align-self: flex-end;width: 50%;}#sk-container-id-2 div.sk-parallel-item:last-child::after {align-self: flex-start;width: 50%;}#sk-container-id-2 div.sk-parallel-item:only-child::after {width: 0;}#sk-container-id-2 div.sk-dashed-wrapped {border: 1px dashed gray;margin: 0 0.4em 0.5em 0.4em;box-sizing: border-box;padding-bottom: 0.4em;background-color: white;}#sk-container-id-2 div.sk-label label {font-family: monospace;font-weight: bold;display: inline-block;line-height: 1.2em;}#sk-container-id-2 div.sk-label-container {text-align: center;}#sk-container-id-2 div.sk-container {/* jupyter's `normalize.less` sets `[hidden] { display: none; }` but bootstrap.min.css set `[hidden] { display: none !important; }` so we also need the `!important` here to be able to override the default hidden behavior on the sphinx rendered scikit-learn.org. See: https://github.com/scikit-learn/scikit-learn/issues/21755 */display: inline-block !important;position: relative;}#sk-container-id-2 div.sk-text-repr-fallback {display: none;}</style><div id=\"sk-container-id-2\" class=\"sk-top-container\"><div class=\"sk-text-repr-fallback\"><pre>BayesianRidge()</pre><b>In a Jupyter environment, please rerun this cell to show the HTML representation or trust the notebook. <br />On GitHub, the HTML representation is unable to render, please try loading this page with nbviewer.org.</b></div><div class=\"sk-container\" hidden><div class=\"sk-item\"><div class=\"sk-estimator sk-toggleable\"><input class=\"sk-toggleable__control sk-hidden--visually\" id=\"sk-estimator-id-2\" type=\"checkbox\" checked><label for=\"sk-estimator-id-2\" class=\"sk-toggleable__label sk-toggleable__label-arrow\">BayesianRidge</label><div class=\"sk-toggleable__content\"><pre>BayesianRidge()</pre></div></div></div></div></div>"
      ],
      "text/plain": [
       "BayesianRidge()"
      ]
     },
     "execution_count": 19,
     "metadata": {},
     "output_type": "execute_result"
    }
   ],
   "source": [
    "from sklearn.linear_model import BayesianRidge\n",
    "clf2 = BayesianRidge()\n",
    "clf2.fit(X_train_v, y_train)"
   ]
  },
  {
   "cell_type": "code",
   "execution_count": 20,
   "id": "b48c9b61",
   "metadata": {},
   "outputs": [
    {
     "name": "stdout",
     "output_type": "stream",
     "text": [
      "Accuracy: 0.24378109452736318\n",
      "Precision: 0.24378109452736318\n",
      "Recall: 0.24378109452736318\n",
      "F1 score: 0.24378109452736318\n"
     ]
    }
   ],
   "source": [
    "y_pred = clf2.predict(X_test_v)\n",
    "print('Accuracy:', accuracy_score(y_test, y_pred.astype(int)))\n",
    "print('Precision:', precision_score(y_test, y_pred.astype(int), average='micro'))\n",
    "print('Recall:', recall_score(y_test, y_pred.astype(int), average='micro'))\n",
    "print('F1 score:', f1_score(y_test, y_pred.astype(int), average='micro'))"
   ]
  },
  {
   "cell_type": "code",
   "execution_count": 21,
   "id": "1a3f6998",
   "metadata": {},
   "outputs": [
    {
     "data": {
      "text/html": [
       "<style>#sk-container-id-3 {color: black;}#sk-container-id-3 pre{padding: 0;}#sk-container-id-3 div.sk-toggleable {background-color: white;}#sk-container-id-3 label.sk-toggleable__label {cursor: pointer;display: block;width: 100%;margin-bottom: 0;padding: 0.3em;box-sizing: border-box;text-align: center;}#sk-container-id-3 label.sk-toggleable__label-arrow:before {content: \"▸\";float: left;margin-right: 0.25em;color: #696969;}#sk-container-id-3 label.sk-toggleable__label-arrow:hover:before {color: black;}#sk-container-id-3 div.sk-estimator:hover label.sk-toggleable__label-arrow:before {color: black;}#sk-container-id-3 div.sk-toggleable__content {max-height: 0;max-width: 0;overflow: hidden;text-align: left;background-color: #f0f8ff;}#sk-container-id-3 div.sk-toggleable__content pre {margin: 0.2em;color: black;border-radius: 0.25em;background-color: #f0f8ff;}#sk-container-id-3 input.sk-toggleable__control:checked~div.sk-toggleable__content {max-height: 200px;max-width: 100%;overflow: auto;}#sk-container-id-3 input.sk-toggleable__control:checked~label.sk-toggleable__label-arrow:before {content: \"▾\";}#sk-container-id-3 div.sk-estimator input.sk-toggleable__control:checked~label.sk-toggleable__label {background-color: #d4ebff;}#sk-container-id-3 div.sk-label input.sk-toggleable__control:checked~label.sk-toggleable__label {background-color: #d4ebff;}#sk-container-id-3 input.sk-hidden--visually {border: 0;clip: rect(1px 1px 1px 1px);clip: rect(1px, 1px, 1px, 1px);height: 1px;margin: -1px;overflow: hidden;padding: 0;position: absolute;width: 1px;}#sk-container-id-3 div.sk-estimator {font-family: monospace;background-color: #f0f8ff;border: 1px dotted black;border-radius: 0.25em;box-sizing: border-box;margin-bottom: 0.5em;}#sk-container-id-3 div.sk-estimator:hover {background-color: #d4ebff;}#sk-container-id-3 div.sk-parallel-item::after {content: \"\";width: 100%;border-bottom: 1px solid gray;flex-grow: 1;}#sk-container-id-3 div.sk-label:hover label.sk-toggleable__label {background-color: #d4ebff;}#sk-container-id-3 div.sk-serial::before {content: \"\";position: absolute;border-left: 1px solid gray;box-sizing: border-box;top: 0;bottom: 0;left: 50%;z-index: 0;}#sk-container-id-3 div.sk-serial {display: flex;flex-direction: column;align-items: center;background-color: white;padding-right: 0.2em;padding-left: 0.2em;position: relative;}#sk-container-id-3 div.sk-item {position: relative;z-index: 1;}#sk-container-id-3 div.sk-parallel {display: flex;align-items: stretch;justify-content: center;background-color: white;position: relative;}#sk-container-id-3 div.sk-item::before, #sk-container-id-3 div.sk-parallel-item::before {content: \"\";position: absolute;border-left: 1px solid gray;box-sizing: border-box;top: 0;bottom: 0;left: 50%;z-index: -1;}#sk-container-id-3 div.sk-parallel-item {display: flex;flex-direction: column;z-index: 1;position: relative;background-color: white;}#sk-container-id-3 div.sk-parallel-item:first-child::after {align-self: flex-end;width: 50%;}#sk-container-id-3 div.sk-parallel-item:last-child::after {align-self: flex-start;width: 50%;}#sk-container-id-3 div.sk-parallel-item:only-child::after {width: 0;}#sk-container-id-3 div.sk-dashed-wrapped {border: 1px dashed gray;margin: 0 0.4em 0.5em 0.4em;box-sizing: border-box;padding-bottom: 0.4em;background-color: white;}#sk-container-id-3 div.sk-label label {font-family: monospace;font-weight: bold;display: inline-block;line-height: 1.2em;}#sk-container-id-3 div.sk-label-container {text-align: center;}#sk-container-id-3 div.sk-container {/* jupyter's `normalize.less` sets `[hidden] { display: none; }` but bootstrap.min.css set `[hidden] { display: none !important; }` so we also need the `!important` here to be able to override the default hidden behavior on the sphinx rendered scikit-learn.org. See: https://github.com/scikit-learn/scikit-learn/issues/21755 */display: inline-block !important;position: relative;}#sk-container-id-3 div.sk-text-repr-fallback {display: none;}</style><div id=\"sk-container-id-3\" class=\"sk-top-container\"><div class=\"sk-text-repr-fallback\"><pre>SVC(gamma=&#x27;auto&#x27;)</pre><b>In a Jupyter environment, please rerun this cell to show the HTML representation or trust the notebook. <br />On GitHub, the HTML representation is unable to render, please try loading this page with nbviewer.org.</b></div><div class=\"sk-container\" hidden><div class=\"sk-item\"><div class=\"sk-estimator sk-toggleable\"><input class=\"sk-toggleable__control sk-hidden--visually\" id=\"sk-estimator-id-3\" type=\"checkbox\" checked><label for=\"sk-estimator-id-3\" class=\"sk-toggleable__label sk-toggleable__label-arrow\">SVC</label><div class=\"sk-toggleable__content\"><pre>SVC(gamma=&#x27;auto&#x27;)</pre></div></div></div></div></div>"
      ],
      "text/plain": [
       "SVC(gamma='auto')"
      ]
     },
     "execution_count": 21,
     "metadata": {},
     "output_type": "execute_result"
    }
   ],
   "source": [
    "from sklearn import svm\n",
    "clf3 = svm.SVC(gamma='auto')\n",
    "clf3.fit(X_train_v, y_train)"
   ]
  },
  {
   "cell_type": "code",
   "execution_count": 22,
   "id": "439635df",
   "metadata": {},
   "outputs": [
    {
     "name": "stdout",
     "output_type": "stream",
     "text": [
      "Accuracy: 0.43781094527363185\n",
      "Precision: 0.43781094527363185\n",
      "Recall: 0.43781094527363185\n",
      "F1 score: 0.43781094527363185\n"
     ]
    }
   ],
   "source": [
    "y_pred = clf3.predict(X_test_v)\n",
    "print('Accuracy:', accuracy_score(y_test, y_pred))\n",
    "print('Precision:', precision_score(y_test, y_pred, average='micro'))\n",
    "print('Recall:', recall_score(y_test, y_pred, average='micro'))\n",
    "print('F1 score:', f1_score(y_test, y_pred, average='micro'))"
   ]
  },
  {
   "cell_type": "markdown",
   "id": "fe4f0403-d55d-4798-aac8-c9106ebf1848",
   "metadata": {},
   "source": [
    "# 使用 translate 將英文文稿轉成繁體中文"
   ]
  },
  {
   "cell_type": "code",
   "execution_count": 92,
   "id": "a24a0ce8-375f-4bbe-992a-5cadb82600af",
   "metadata": {},
   "outputs": [
    {
     "name": "stdout",
     "output_type": "stream",
     "text": [
      "Collecting google_trans_new\n",
      "  Downloading google_trans_new-1.1.9-py3-none-any.whl (9.2 kB)\n",
      "Installing collected packages: google_trans_new\n",
      "Successfully installed google_trans_new-1.1.9\n"
     ]
    }
   ],
   "source": [
    "#!pip install translate\n",
    "!pip install google_trans_new"
   ]
  },
  {
   "cell_type": "code",
   "execution_count": 98,
   "id": "4045422b-0fb2-439f-98f1-fd36a7e32f23",
   "metadata": {},
   "outputs": [],
   "source": [
    "from translate import Translator\n",
    "translator = Translator(from_lang=\"en\",to_lang=\"zh-TW\")\n",
    "translation = translator.translate(\"i am in Taipei and very happy\")\n",
    "print(translation)"
   ]
  },
  {
   "cell_type": "code",
   "execution_count": 44,
   "id": "de37eb11-5926-4a32-9b47-7be582a18337",
   "metadata": {},
   "outputs": [
    {
     "data": {
      "text/plain": [
       "ali        ladies and gentlemen please welcome to the sta...\n",
       "anthony    thank you thank you thank you san francisco th...\n",
       "bill        all right thank you thank you very much thank...\n",
       "Name: transcript, dtype: object"
      ]
     },
     "execution_count": 44,
     "metadata": {},
     "output_type": "execute_result"
    }
   ],
   "source": [
    "data_eng = pd.read_pickle('../nlp-in-python-tutorial/data_clean.pkl')\n",
    "data_eng.head(3)['transcript']"
   ]
  },
  {
   "cell_type": "code",
   "execution_count": 103,
   "id": "bda221d1-0ff1-4c04-bacf-07f79940ee42",
   "metadata": {},
   "outputs": [
    {
     "data": {
      "text/html": [
       "<div>\n",
       "<style scoped>\n",
       "    .dataframe tbody tr th:only-of-type {\n",
       "        vertical-align: middle;\n",
       "    }\n",
       "\n",
       "    .dataframe tbody tr th {\n",
       "        vertical-align: top;\n",
       "    }\n",
       "\n",
       "    .dataframe thead th {\n",
       "        text-align: right;\n",
       "    }\n",
       "</style>\n",
       "<table border=\"1\" class=\"dataframe\">\n",
       "  <thead>\n",
       "    <tr style=\"text-align: right;\">\n",
       "      <th></th>\n",
       "      <th>transcript</th>\n",
       "      <th>chinese_trans</th>\n",
       "      <th>T</th>\n",
       "    </tr>\n",
       "  </thead>\n",
       "  <tbody>\n",
       "    <tr>\n",
       "      <th>ali</th>\n",
       "      <td>ladies and gentlemen please welcome to the sta...</td>\n",
       "      <td>女士們，先生們，歡迎來到舞臺， Ali Wong ，您好，歡迎您，謝謝您的到來，您好，您好，...</td>\n",
       "      <td>ladies and gentlemen please welcome to the sta...</td>\n",
       "    </tr>\n",
       "    <tr>\n",
       "      <th>anthony</th>\n",
       "      <td>thank you thank you thank you san francisco th...</td>\n",
       "      <td>NaN</td>\n",
       "      <td>thank you thank you thank you san francisco th...</td>\n",
       "    </tr>\n",
       "    <tr>\n",
       "      <th>bill</th>\n",
       "      <td>all right thank you thank you very much thank...</td>\n",
       "      <td>NaN</td>\n",
       "      <td>all right thank you thank you very much thank...</td>\n",
       "    </tr>\n",
       "  </tbody>\n",
       "</table>\n",
       "</div>"
      ],
      "text/plain": [
       "                                                transcript  \\\n",
       "ali      ladies and gentlemen please welcome to the sta...   \n",
       "anthony  thank you thank you thank you san francisco th...   \n",
       "bill      all right thank you thank you very much thank...   \n",
       "\n",
       "                                             chinese_trans  \\\n",
       "ali      女士們，先生們，歡迎來到舞臺， Ali Wong ，您好，歡迎您，謝謝您的到來，您好，您好，...   \n",
       "anthony                                                NaN   \n",
       "bill                                                   NaN   \n",
       "\n",
       "                                                         T  \n",
       "ali      ladies and gentlemen please welcome to the sta...  \n",
       "anthony  thank you thank you thank you san francisco th...  \n",
       "bill      all right thank you thank you very much thank...  "
      ]
     },
     "execution_count": 103,
     "metadata": {},
     "output_type": "execute_result"
    }
   ],
   "source": [
    "data_eng['T'] = data_eng['transcript'].str[:500]\n",
    "data_eng.head(3)"
   ]
  },
  {
   "cell_type": "code",
   "execution_count": 104,
   "id": "d4a7a9d4-19ae-4069-bf2c-c106309bb82f",
   "metadata": {},
   "outputs": [],
   "source": [
    "#import googletrans\n",
    "#translator2 = googletrans.Translator()\n",
    "#results = translator2.translate('我覺得今天天氣不好。')\n",
    "#translator2.translate('我覺得今天天氣不好', dest='en').text\n",
    "#translator.translate(\"ladies and gentlemen please welcome to the\",dest='zh-tw').text"
   ]
  },
  {
   "cell_type": "code",
   "execution_count": 106,
   "id": "ca950c63-0b57-49bc-be66-0872c7c0dd9d",
   "metadata": {},
   "outputs": [
    {
     "data": {
      "text/plain": [
       "ali    女士們，先生們，歡迎來到舞臺， Ali Wong ，您好，歡迎您，謝謝您的到來，您好，您好，...\n",
       "Name: chinese_trans, dtype: object"
      ]
     },
     "execution_count": 106,
     "metadata": {},
     "output_type": "execute_result"
    }
   ],
   "source": [
    "data_eng['chinese_trans'] = data_eng['T'].apply(translator.translate)"
   ]
  },
  {
   "cell_type": "code",
   "execution_count": 107,
   "id": "eae748a0-9a2b-461a-b0e2-0aee34901e03",
   "metadata": {},
   "outputs": [
    {
     "data": {
      "text/plain": [
       "ali        女士們，先生們，歡迎來到舞臺， Ali Wong ，您好，歡迎您，謝謝您的到來，您好，您好，...\n",
       "anthony    謝謝您謝謝您舊金山非常感謝您來到這裡當我告訴他們我將在舊金山拍攝我的特別節目時人們感到驚訝為...\n",
       "bill       好吧，謝謝你非常感謝你謝謝你是怎麼回事謝謝你很高興來到大亞特蘭大喬治亞地區這個綠洲很高興來到...\n",
       "dave       這是戴夫，他以骯髒的笑話為生，凝視是他大部分辛勤工作發生的地方，它意味著一種深刻的思想，煉金...\n",
       "jim        女士們，先生們，歡迎來到舞臺上吉姆·傑弗裏斯先生，請坐下來坐下來坐下來謝謝您，波士頓，我很感...\n",
       "joe        女士們，先生們，歡迎joe rogan ， fck正在發生什麼事情舊金山謝謝你的到來，我很感...\n",
       "john       帶著男孩般的魅力和敏銳的機智，前SNL作家約翰·穆蘭尼（ John Mulaney ）狡猾地...\n",
       "louis      介紹淡出音樂，讓搖滾保持燈光，謝謝你，我非常感激我不一定同意你的看法，但我非常感謝這是一個很...\n",
       "mike       哇，嘿，謝謝你們，嘿，西雅圖很高興看到你們看著我們在這裡這太瘋狂了，所以大約五年前，我認識的...\n",
       "ricky      你好，你好，你好，你做得很好，謝謝你，哇，冷靜點，閉嘴，他媽的，謝謝你，多麼可愛的歡迎，我要...\n",
       "Name: chinese_trans, dtype: object"
      ]
     },
     "execution_count": 107,
     "metadata": {},
     "output_type": "execute_result"
    }
   ],
   "source": [
    "data_eng.head(10)['chinese_trans']"
   ]
  },
  {
   "cell_type": "markdown",
   "id": "3d690afa-ac7e-471a-b895-408d9a4f83b3",
   "metadata": {},
   "source": [
    "# 使用 CKIP 來做 名詞任務"
   ]
  },
  {
   "cell_type": "code",
   "execution_count": null,
   "id": "48c75c9d-3c82-40a8-b304-981c7e3cf99d",
   "metadata": {},
   "outputs": [],
   "source": [
    "!pip install ckiptagger\n",
    "!pip install tensorflow\n",
    "!pip install gdown"
   ]
  },
  {
   "cell_type": "code",
   "execution_count": null,
   "id": "dee00c75-e23f-49b3-b16c-4e5e8ec7fa63",
   "metadata": {},
   "outputs": [],
   "source": [
    "from ckiptagger import data_utils\n",
    "data_utils.download_data_gdown(\"./\")"
   ]
  },
  {
   "cell_type": "code",
   "execution_count": 19,
   "id": "cf85b94b-86d2-4695-b145-b2004a3b7c58",
   "metadata": {},
   "outputs": [
    {
     "data": {
      "text/html": [
       "<div>\n",
       "<style scoped>\n",
       "    .dataframe tbody tr th:only-of-type {\n",
       "        vertical-align: middle;\n",
       "    }\n",
       "\n",
       "    .dataframe tbody tr th {\n",
       "        vertical-align: top;\n",
       "    }\n",
       "\n",
       "    .dataframe thead th {\n",
       "        text-align: right;\n",
       "    }\n",
       "</style>\n",
       "<table border=\"1\" class=\"dataframe\">\n",
       "  <thead>\n",
       "    <tr style=\"text-align: right;\">\n",
       "      <th></th>\n",
       "      <th>contents</th>\n",
       "      <th>num_word</th>\n",
       "    </tr>\n",
       "  </thead>\n",
       "  <tbody>\n",
       "    <tr>\n",
       "      <th>0</th>\n",
       "      <td>豪 大雨 造成 南部 地區 重大 災情 除了 淹水 災民 收拾 家園 很 辛苦 也 要 帶 ...</td>\n",
       "      <td>203</td>\n",
       "    </tr>\n",
       "    <tr>\n",
       "      <th>1</th>\n",
       "      <td>年 全國 運動會 月份 將在 桃園 登場 主辦 的 桃園 市政府 找來 男性 時尚 媒體 跨...</td>\n",
       "      <td>161</td>\n",
       "    </tr>\n",
       "    <tr>\n",
       "      <th>2</th>\n",
       "      <td>月底 美台 國防 工業會 議將 在 美國 登場國 防部 證實 確實 有 收到 邀請 函 但國...</td>\n",
       "      <td>80</td>\n",
       "    </tr>\n",
       "  </tbody>\n",
       "</table>\n",
       "</div>"
      ],
      "text/plain": [
       "                                            contents  num_word\n",
       "0  豪 大雨 造成 南部 地區 重大 災情 除了 淹水 災民 收拾 家園 很 辛苦 也 要 帶 ...       203\n",
       "1  年 全國 運動會 月份 將在 桃園 登場 主辦 的 桃園 市政府 找來 男性 時尚 媒體 跨...       161\n",
       "2  月底 美台 國防 工業會 議將 在 美國 登場國 防部 證實 確實 有 收到 邀請 函 但國...        80"
      ]
     },
     "execution_count": 19,
     "metadata": {},
     "output_type": "execute_result"
    }
   ],
   "source": [
    "clean_data_sen = pd.read_pickle('data_pickle/clean_data_sentence.pkl')\n",
    "clean_data_sen.head(3)"
   ]
  },
  {
   "cell_type": "code",
   "execution_count": 5,
   "id": "b17cdb4e-b8ae-498f-b968-1c4865dd3b38",
   "metadata": {},
   "outputs": [
    {
     "name": "stdout",
     "output_type": "stream",
     "text": [
      "WARNING:tensorflow:From D:\\miniconda3\\envs\\nlp\\lib\\site-packages\\keras\\src\\losses.py:2976: The name tf.losses.sparse_softmax_cross_entropy is deprecated. Please use tf.compat.v1.losses.sparse_softmax_cross_entropy instead.\n",
      "\n",
      "WARNING:tensorflow:From D:\\miniconda3\\envs\\nlp\\lib\\site-packages\\ckiptagger\\api.py:8: The name tf.logging.set_verbosity is deprecated. Please use tf.compat.v1.logging.set_verbosity instead.\n",
      "\n"
     ]
    },
    {
     "name": "stderr",
     "output_type": "stream",
     "text": [
      "D:\\miniconda3\\envs\\nlp\\lib\\site-packages\\ckiptagger\\model_ws.py:106: UserWarning: `tf.nn.rnn_cell.LSTMCell` is deprecated and will be removed in a future version. This class is equivalent as `tf.keras.layers.LSTMCell`, and will be replaced by that in Tensorflow 2.0.\n",
      "  cell = tf.compat.v1.nn.rnn_cell.LSTMCell(hidden_d, name=name)\n",
      "D:\\miniconda3\\envs\\nlp\\lib\\site-packages\\ckiptagger\\model_pos.py:56: UserWarning: `tf.nn.rnn_cell.LSTMCell` is deprecated and will be removed in a future version. This class is equivalent as `tf.keras.layers.LSTMCell`, and will be replaced by that in Tensorflow 2.0.\n",
      "  cell = tf.compat.v1.nn.rnn_cell.LSTMCell(hidden_d, name=name)\n",
      "D:\\miniconda3\\envs\\nlp\\lib\\site-packages\\ckiptagger\\model_ner.py:57: UserWarning: `tf.nn.rnn_cell.LSTMCell` is deprecated and will be removed in a future version. This class is equivalent as `tf.keras.layers.LSTMCell`, and will be replaced by that in Tensorflow 2.0.\n",
      "  cell = tf.compat.v1.nn.rnn_cell.LSTMCell(hidden_d, name=name)\n"
     ]
    },
    {
     "name": "stdout",
     "output_type": "stream",
     "text": [
      "[['豪大雨', '造成', '南部', '地區', '重大', '災情', '除了', '淹水', '災民', '收拾', '家園', '很', '辛苦', '也', '要', '帶', '您', '來', '看到', '辛苦', '的', '清潔隊員', '台南市', '環保局', '。']]\n",
      "[['Na', 'VK', 'Ncd', 'Nc', 'VH', 'Na', 'P', 'VA', 'Na', 'VC', 'Na', 'Dfa', 'VHC', 'D', 'D', 'VC', 'Nh', 'D', 'VE', 'VHC', 'DE', 'Na', 'Nc', 'Nc', 'PERIODCATEGORY']]\n",
      "(40, 46, 'ORG', '台南市環保局')\n"
     ]
    }
   ],
   "source": [
    "from ckiptagger import WS, POS, NER\n",
    "\n",
    "text = '豪大雨造成南部地區重大災情除了淹水災民收拾家園很辛苦也要帶您來看到辛苦的清潔隊員台南市環保局。'\n",
    "ws = WS(\"./data\")\n",
    "pos = POS(\"./data\")\n",
    "ner = NER(\"./data\")\n",
    "\n",
    "ws_results = ws([text])\n",
    "pos_results = pos(ws_results)\n",
    "ner_results = ner(ws_results, pos_results)\n",
    "\n",
    "print(ws_results)\n",
    "print(pos_results)\n",
    "for name in ner_results[0]:\n",
    "    print(name)"
   ]
  },
  {
   "cell_type": "code",
   "execution_count": 6,
   "id": "883ce7da-6e97-4b3a-a349-0099275a8598",
   "metadata": {},
   "outputs": [
    {
     "data": {
      "text/plain": [
       "[('豪大雨', 'Na'),\n",
       " ('造成', 'VK'),\n",
       " ('南部', 'Ncd'),\n",
       " ('地區', 'Nc'),\n",
       " ('重大', 'VH'),\n",
       " ('災情', 'Na'),\n",
       " ('除了', 'P'),\n",
       " ('淹水', 'VA'),\n",
       " ('災民', 'Na'),\n",
       " ('收拾', 'VC'),\n",
       " ('家園', 'Na'),\n",
       " ('很', 'Dfa'),\n",
       " ('辛苦', 'VHC'),\n",
       " ('也', 'D'),\n",
       " ('要', 'D'),\n",
       " ('帶', 'VC'),\n",
       " ('您', 'Nh'),\n",
       " ('來', 'D'),\n",
       " ('看到', 'VE'),\n",
       " ('辛苦', 'VHC'),\n",
       " ('的', 'DE'),\n",
       " ('清潔隊員', 'Na'),\n",
       " ('台南市', 'Nc'),\n",
       " ('環保局', 'Nc'),\n",
       " ('。', 'PERIODCATEGORY')]"
      ]
     },
     "execution_count": 6,
     "metadata": {},
     "output_type": "execute_result"
    }
   ],
   "source": [
    "list(zip(ws_results[0], pos_results[0]))"
   ]
  },
  {
   "cell_type": "code",
   "execution_count": 7,
   "id": "94f7e00d-f50e-4828-a63a-bd7eb0341673",
   "metadata": {},
   "outputs": [],
   "source": [
    "# 定義名詞的 fuction \n",
    "def nouns(text):\n",
    "    '''Given a string of text, tokenize the text and pull out only the nouns.'''\n",
    "    is_noun = lambda pos: pos[0] == 'N'\n",
    "    ws_results = ws([text])\n",
    "    all_nouns = [word for (word, pos) in list(zip(ws_results[0], pos(ws_results)[0])) if is_noun(pos)]\n",
    "    return ' '.join(all_nouns)"
   ]
  },
  {
   "cell_type": "code",
   "execution_count": 20,
   "id": "9ec06e84-582c-47d3-b6a2-d919cf7b0034",
   "metadata": {},
   "outputs": [
    {
     "data": {
      "text/html": [
       "<div>\n",
       "<style scoped>\n",
       "    .dataframe tbody tr th:only-of-type {\n",
       "        vertical-align: middle;\n",
       "    }\n",
       "\n",
       "    .dataframe tbody tr th {\n",
       "        vertical-align: top;\n",
       "    }\n",
       "\n",
       "    .dataframe thead th {\n",
       "        text-align: right;\n",
       "    }\n",
       "</style>\n",
       "<table border=\"1\" class=\"dataframe\">\n",
       "  <thead>\n",
       "    <tr style=\"text-align: right;\">\n",
       "      <th></th>\n",
       "      <th>contents</th>\n",
       "    </tr>\n",
       "  </thead>\n",
       "  <tbody>\n",
       "    <tr>\n",
       "      <th>0</th>\n",
       "      <td>豪  大雨 南部 地區 災情 災民 家園 您 隊員 台南市 環保局 統計 麻豆 六 個 這 ...</td>\n",
       "    </tr>\n",
       "    <tr>\n",
       "      <th>1</th>\n",
       "      <td>年 全 國 運動會  月份 桃園 桃園 市政府 男性 時尚 媒體  跨界  年  金曲  獎...</td>\n",
       "    </tr>\n",
       "    <tr>\n",
       "      <th>2</th>\n",
       "      <td>月底 美台 國防 工業會 美國 登場國  防部 函  但國  防部 嚴德發 團 步 各 項 ...</td>\n",
       "    </tr>\n",
       "    <tr>\n",
       "      <th>3</th>\n",
       "      <td>歲 以上 寶寶 最近 公費 常規 疫苗 歲 以上 者 肺炎 鏈 球菌 疫苗 再  幾 天省 ...</td>\n",
       "    </tr>\n",
       "    <tr>\n",
       "      <th>4</th>\n",
       "      <td>台灣 燈會 今年 台 中 大量 原住民 文化 主展區 原藝  燈區 台灣族  南島  語系 ...</td>\n",
       "    </tr>\n",
       "    <tr>\n",
       "      <th>5</th>\n",
       "      <td>年 台北  燈節  月  日   日   今度 台北  光 主題 東區 西區 主場 主燈 概...</td>\n",
       "    </tr>\n",
       "    <tr>\n",
       "      <th>6</th>\n",
       "      <td>總統  大選 電視 辯論會 昨天 下午 國民黨 總統 候 選人 韓國瑜 三立 電視台 良心 ...</td>\n",
       "    </tr>\n",
       "    <tr>\n",
       "      <th>7</th>\n",
       "      <td>總統  大選 總統 蔡 英文 四 年 學者 民  進黨 選戰 議題 走向 國民黨 人民 執政...</td>\n",
       "    </tr>\n",
       "    <tr>\n",
       "      <th>8</th>\n",
       "      <td>月 日  您 歷史 上 今天  年 月 日 中國  紮 越南 境內 軍隊 中 越 戰爭  年...</td>\n",
       "    </tr>\n",
       "    <tr>\n",
       "      <th>9</th>\n",
       "      <td>月 日  您 歷史 上 今天  年 月 日 軍事 法庭 第一 次 高雄 美麗島 事件 年 月...</td>\n",
       "    </tr>\n",
       "  </tbody>\n",
       "</table>\n",
       "</div>"
      ],
      "text/plain": [
       "                                            contents\n",
       "0  豪  大雨 南部 地區 災情 災民 家園 您 隊員 台南市 環保局 統計 麻豆 六 個 這 ...\n",
       "1  年 全 國 運動會  月份 桃園 桃園 市政府 男性 時尚 媒體  跨界  年  金曲  獎...\n",
       "2  月底 美台 國防 工業會 美國 登場國  防部 函  但國  防部 嚴德發 團 步 各 項 ...\n",
       "3  歲 以上 寶寶 最近 公費 常規 疫苗 歲 以上 者 肺炎 鏈 球菌 疫苗 再  幾 天省 ...\n",
       "4  台灣 燈會 今年 台 中 大量 原住民 文化 主展區 原藝  燈區 台灣族  南島  語系 ...\n",
       "5  年 台北  燈節  月  日   日   今度 台北  光 主題 東區 西區 主場 主燈 概...\n",
       "6  總統  大選 電視 辯論會 昨天 下午 國民黨 總統 候 選人 韓國瑜 三立 電視台 良心 ...\n",
       "7  總統  大選 總統 蔡 英文 四 年 學者 民  進黨 選戰 議題 走向 國民黨 人民 執政...\n",
       "8  月 日  您 歷史 上 今天  年 月 日 中國  紮 越南 境內 軍隊 中 越 戰爭  年...\n",
       "9  月 日  您 歷史 上 今天  年 月 日 軍事 法庭 第一 次 高雄 美麗島 事件 年 月..."
      ]
     },
     "execution_count": 20,
     "metadata": {},
     "output_type": "execute_result"
    }
   ],
   "source": [
    "# 找出名詞出來\n",
    "data_nouns = pd.DataFrame(clean_data_sen.head(10).contents.apply(nouns))\n",
    "data_nouns"
   ]
  },
  {
   "cell_type": "code",
   "execution_count": 21,
   "id": "11841470-2225-413d-b027-996a51e99992",
   "metadata": {},
   "outputs": [
    {
     "data": {
      "text/html": [
       "<div>\n",
       "<style scoped>\n",
       "    .dataframe tbody tr th:only-of-type {\n",
       "        vertical-align: middle;\n",
       "    }\n",
       "\n",
       "    .dataframe tbody tr th {\n",
       "        vertical-align: top;\n",
       "    }\n",
       "\n",
       "    .dataframe thead th {\n",
       "        text-align: right;\n",
       "    }\n",
       "</style>\n",
       "<table border=\"1\" class=\"dataframe\">\n",
       "  <thead>\n",
       "    <tr style=\"text-align: right;\">\n",
       "      <th></th>\n",
       "      <th>contents</th>\n",
       "      <th>num_word</th>\n",
       "      <th>num_word_nouns</th>\n",
       "    </tr>\n",
       "  </thead>\n",
       "  <tbody>\n",
       "    <tr>\n",
       "      <th>0</th>\n",
       "      <td>豪  大雨 南部 地區 災情 災民 家園 您 隊員 台南市 環保局 統計 麻豆 六 個 這 ...</td>\n",
       "      <td>203</td>\n",
       "      <td>113</td>\n",
       "    </tr>\n",
       "    <tr>\n",
       "      <th>1</th>\n",
       "      <td>年 全 國 運動會  月份 桃園 桃園 市政府 男性 時尚 媒體  跨界  年  金曲  獎...</td>\n",
       "      <td>161</td>\n",
       "      <td>106</td>\n",
       "    </tr>\n",
       "    <tr>\n",
       "      <th>2</th>\n",
       "      <td>月底 美台 國防 工業會 美國 登場國  防部 函  但國  防部 嚴德發 團 步 各 項 ...</td>\n",
       "      <td>80</td>\n",
       "      <td>52</td>\n",
       "    </tr>\n",
       "    <tr>\n",
       "      <th>3</th>\n",
       "      <td>歲 以上 寶寶 最近 公費 常規 疫苗 歲 以上 者 肺炎 鏈 球菌 疫苗 再  幾 天省 ...</td>\n",
       "      <td>118</td>\n",
       "      <td>88</td>\n",
       "    </tr>\n",
       "    <tr>\n",
       "      <th>4</th>\n",
       "      <td>台灣 燈會 今年 台 中 大量 原住民 文化 主展區 原藝  燈區 台灣族  南島  語系 ...</td>\n",
       "      <td>184</td>\n",
       "      <td>127</td>\n",
       "    </tr>\n",
       "    <tr>\n",
       "      <th>5</th>\n",
       "      <td>年 台北  燈節  月  日   日   今度 台北  光 主題 東區 西區 主場 主燈 概...</td>\n",
       "      <td>90</td>\n",
       "      <td>71</td>\n",
       "    </tr>\n",
       "    <tr>\n",
       "      <th>6</th>\n",
       "      <td>總統  大選 電視 辯論會 昨天 下午 國民黨 總統 候 選人 韓國瑜 三立 電視台 良心 ...</td>\n",
       "      <td>216</td>\n",
       "      <td>144</td>\n",
       "    </tr>\n",
       "    <tr>\n",
       "      <th>7</th>\n",
       "      <td>總統  大選 總統 蔡 英文 四 年 學者 民  進黨 選戰 議題 走向 國民黨 人民 執政...</td>\n",
       "      <td>321</td>\n",
       "      <td>179</td>\n",
       "    </tr>\n",
       "    <tr>\n",
       "      <th>8</th>\n",
       "      <td>月 日  您 歷史 上 今天  年 月 日 中國  紮 越南 境內 軍隊 中 越 戰爭  年...</td>\n",
       "      <td>139</td>\n",
       "      <td>113</td>\n",
       "    </tr>\n",
       "    <tr>\n",
       "      <th>9</th>\n",
       "      <td>月 日  您 歷史 上 今天  年 月 日 軍事 法庭 第一 次 高雄 美麗島 事件 年 月...</td>\n",
       "      <td>138</td>\n",
       "      <td>105</td>\n",
       "    </tr>\n",
       "  </tbody>\n",
       "</table>\n",
       "</div>"
      ],
      "text/plain": [
       "                                            contents  num_word  num_word_nouns\n",
       "0  豪  大雨 南部 地區 災情 災民 家園 您 隊員 台南市 環保局 統計 麻豆 六 個 這 ...       203             113\n",
       "1  年 全 國 運動會  月份 桃園 桃園 市政府 男性 時尚 媒體  跨界  年  金曲  獎...       161             106\n",
       "2  月底 美台 國防 工業會 美國 登場國  防部 函  但國  防部 嚴德發 團 步 各 項 ...        80              52\n",
       "3  歲 以上 寶寶 最近 公費 常規 疫苗 歲 以上 者 肺炎 鏈 球菌 疫苗 再  幾 天省 ...       118              88\n",
       "4  台灣 燈會 今年 台 中 大量 原住民 文化 主展區 原藝  燈區 台灣族  南島  語系 ...       184             127\n",
       "5  年 台北  燈節  月  日   日   今度 台北  光 主題 東區 西區 主場 主燈 概...        90              71\n",
       "6  總統  大選 電視 辯論會 昨天 下午 國民黨 總統 候 選人 韓國瑜 三立 電視台 良心 ...       216             144\n",
       "7  總統  大選 總統 蔡 英文 四 年 學者 民  進黨 選戰 議題 走向 國民黨 人民 執政...       321             179\n",
       "8  月 日  您 歷史 上 今天  年 月 日 中國  紮 越南 境內 軍隊 中 越 戰爭  年...       139             113\n",
       "9  月 日  您 歷史 上 今天  年 月 日 軍事 法庭 第一 次 高雄 美麗島 事件 年 月...       138             105"
      ]
     },
     "execution_count": 21,
     "metadata": {},
     "output_type": "execute_result"
    }
   ],
   "source": [
    "data_nouns['num_word'] = pd.DataFrame(clean_data_sen.contents.apply(lambda x: len(str(x).split(' '))))\n",
    "data_nouns['num_word_nouns'] = pd.DataFrame(data_nouns.contents.apply(lambda x: len(str(x).split(' '))))\n",
    "data_nouns.head(10)"
   ]
  },
  {
   "cell_type": "code",
   "execution_count": null,
   "id": "f19289c0-10ab-42ac-9bcf-2db5e20413c3",
   "metadata": {},
   "outputs": [],
   "source": []
  }
 ],
 "metadata": {
  "kernelspec": {
   "display_name": "Python 3 (ipykernel)",
   "language": "python",
   "name": "python3"
  },
  "language_info": {
   "codemirror_mode": {
    "name": "ipython",
    "version": 3
   },
   "file_extension": ".py",
   "mimetype": "text/x-python",
   "name": "python",
   "nbconvert_exporter": "python",
   "pygments_lexer": "ipython3",
   "version": "3.10.13"
  }
 },
 "nbformat": 4,
 "nbformat_minor": 5
}
