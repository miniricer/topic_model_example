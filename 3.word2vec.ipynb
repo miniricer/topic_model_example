{
 "cells": [
  {
   "cell_type": "markdown",
   "id": "93403f85",
   "metadata": {},
   "source": [
    "# 完全參考 [Word2Vec-以 gensim 訓練中文詞向量](https://www.kaggle.com/code/bbqlp33/word2vec-gensim/notebook) by [HONGTW](https://www.kaggle.com/bbqlp33)"
   ]
  },
  {
   "cell_type": "code",
   "execution_count": 2,
   "id": "631ea4e8",
   "metadata": {},
   "outputs": [
    {
     "name": "stdout",
     "output_type": "stream",
     "text": [
      "Collecting zhconv\n",
      "  Downloading zhconv-1.4.3.tar.gz (211 kB)\n",
      "     ---------------------------------------- 0.0/211.6 kB ? eta -:--:--\n",
      "     - -------------------------------------- 10.2/211.6 kB ? eta -:--:--\n",
      "     - -------------------------------------- 10.2/211.6 kB ? eta -:--:--\n",
      "     ------- ----------------------------- 41.0/211.6 kB 245.8 kB/s eta 0:00:01\n",
      "     ------------ ------------------------ 71.7/211.6 kB 326.8 kB/s eta 0:00:01\n",
      "     --------------------------- -------- 163.8/211.6 kB 614.4 kB/s eta 0:00:01\n",
      "     ------------------------------------ 211.6/211.6 kB 677.9 kB/s eta 0:00:00\n",
      "  Preparing metadata (setup.py): started\n",
      "  Preparing metadata (setup.py): finished with status 'done'\n",
      "Building wheels for collected packages: zhconv\n",
      "  Building wheel for zhconv (setup.py): started\n",
      "  Building wheel for zhconv (setup.py): finished with status 'done'\n",
      "  Created wheel for zhconv: filename=zhconv-1.4.3-py2.py3-none-any.whl size=208869 sha256=9877ed2184472301dd8529bfa0358b23e339fd500556e1b8c2050732d9427cec\n",
      "  Stored in directory: c:\\users\\daocheng\\appdata\\local\\pip\\cache\\wheels\\68\\73\\ff\\95fe3e7b41a545b9701416c2178b920713b33022c3d605bdb4\n",
      "Successfully built zhconv\n",
      "Installing collected packages: zhconv\n",
      "Successfully installed zhconv-1.4.3\n"
     ]
    }
   ],
   "source": [
    "#安裝 簡轉繁 : zhconv\n",
    "!pip install zhconv"
   ]
  },
  {
   "cell_type": "markdown",
   "id": "cc9b6c3b",
   "metadata": {},
   "source": [
    "## 資料下載\n",
    "*   [wiki 資料](https://dumps.wikimedia.org/zhwiki/latest/)\n",
    "*  [zhwiki-latest-abstract-zh-tw3.xml.gz](https://dumps.wikimedia.org/zhwiki/latest/zhwiki-latest-abstract-zh-tw3.xml.gz)\n",
    "*   [wget](https://eternallybored.org/misc/wget/1.21.4/64/wget.exe)"
   ]
  },
  {
   "cell_type": "code",
   "execution_count": null,
   "id": "c24143f9",
   "metadata": {},
   "outputs": [],
   "source": [
    "!wget.exe \"https://dumps.wikimedia.org/zhwiki/latest/zhwiki-latest-abstract-zh-tw3.xml.gz\""
   ]
  },
  {
   "cell_type": "code",
   "execution_count": 1,
   "id": "198dbdac",
   "metadata": {},
   "outputs": [
    {
     "ename": "ModuleNotFoundError",
     "evalue": "No module named 'zhconv'",
     "output_type": "error",
     "traceback": [
      "\u001b[1;31m---------------------------------------------------------------------------\u001b[0m",
      "\u001b[1;31mModuleNotFoundError\u001b[0m                       Traceback (most recent call last)",
      "Cell \u001b[1;32mIn[1], line 4\u001b[0m\n\u001b[0;32m      2\u001b[0m \u001b[38;5;28;01mimport\u001b[39;00m \u001b[38;5;21;01mgensim\u001b[39;00m\n\u001b[0;32m      3\u001b[0m \u001b[38;5;28;01mimport\u001b[39;00m \u001b[38;5;21;01mjieba\u001b[39;00m\n\u001b[1;32m----> 4\u001b[0m \u001b[38;5;28;01mimport\u001b[39;00m \u001b[38;5;21;01mzhconv\u001b[39;00m\n\u001b[0;32m      5\u001b[0m \u001b[38;5;28;01mfrom\u001b[39;00m \u001b[38;5;21;01mgensim\u001b[39;00m\u001b[38;5;21;01m.\u001b[39;00m\u001b[38;5;21;01mcorpora\u001b[39;00m \u001b[38;5;28;01mimport\u001b[39;00m WikiCorpus\n\u001b[0;32m      6\u001b[0m \u001b[38;5;28;01mfrom\u001b[39;00m \u001b[38;5;21;01mdatetime\u001b[39;00m \u001b[38;5;28;01mimport\u001b[39;00m datetime \u001b[38;5;28;01mas\u001b[39;00m dt\n",
      "\u001b[1;31mModuleNotFoundError\u001b[0m: No module named 'zhconv'"
     ]
    }
   ],
   "source": [
    "import os \n",
    "import gensim\n",
    "import jieba\n",
    "import zhconv\n",
    "from gensim.corpora import WikiCorpus\n",
    "from datetime import datetime as dt\n",
    "from typing import List\n",
    "\n",
    "jieba.set_dictionary('data/dict.txt.big')\n",
    "print(\"gensim\", gensim.__version__)\n",
    "print(\"jieba\", jieba.__version__)"
   ]
  },
  {
   "cell_type": "markdown",
   "id": "42575047",
   "metadata": {},
   "source": [
    "# 1.中文文本前處理\n",
    "在正式訓練 Word2Vec 之前，其實涉及了文本的前處理，本篇的處理包括如下三點 (而實務上對應的不同使用情境，可能會有不同的前處理流程):\n",
    "\n",
    "*   簡轉繁: zhconv\n",
    "*   中文斷詞: jieba\n",
    "*   停用詞\n",
    "\n",
    "## 簡繁轉換\n",
    "wiki 文本其實摻雜了簡體與繁體中文，比如「数学」與「數學」，這會被 word2vec 當成兩個不同的詞。[1]\n",
    "所以我們在斷詞前，需要加上簡繁轉換的手續"
   ]
  },
  {
   "cell_type": "code",
   "execution_count": 9,
   "id": "311d67c2",
   "metadata": {},
   "outputs": [
    {
     "data": {
      "text/plain": [
       "'這原本是一段簡體中文'"
      ]
     },
     "execution_count": 9,
     "metadata": {},
     "output_type": "execute_result"
    }
   ],
   "source": [
    "zhconv.convert(\"这原本是一段简体中文\", \"zh-tw\")"
   ]
  },
  {
   "cell_type": "markdown",
   "id": "1118c0a2",
   "metadata": {},
   "source": [
    "## 中文斷詞\n",
    "使用 jieba jieba.cut 來進行中文斷詞，\n",
    "並簡單介紹 jieba 的兩種分詞模式:\n",
    "\n",
    "*   cut_all=False 精確模式，試圖將句子最精確地切開，適合文本分析；\n",
    "*   cut_all=True 全模式，把句子中所有的可以成詞的詞語都掃描出來, 速度非常快，但是不能解決歧義；\n",
    "而本篇文本訓練採用精確模式 cut_all=False"
   ]
  },
  {
   "cell_type": "code",
   "execution_count": 11,
   "id": "0d546922",
   "metadata": {},
   "outputs": [
    {
     "name": "stdout",
     "output_type": "stream",
     "text": [
      "Full Mode: 我/ 来到/ 臺北/ 板橋/ 中華/ 中華電信/ 華電/ 電信\n",
      "Default Mode: 我/ 来到/ 臺北/ 板橋/ 中華電信\n"
     ]
    }
   ],
   "source": [
    "seg_list = jieba.cut(\"我来到臺北板橋中華電信\", cut_all=True)\n",
    "print(\"Full Mode: \" + \"/ \".join(seg_list))  # 全模式\n",
    "\n",
    "seg_list = jieba.cut(\"我来到臺北板橋中華電信\", cut_all=False)\n",
    "print(\"Default Mode: \" + \"/ \".join(seg_list))  # 精確模式"
   ]
  },
  {
   "cell_type": "code",
   "execution_count": 12,
   "id": "f413a631",
   "metadata": {},
   "outputs": [
    {
     "name": "stdout",
     "output_type": "stream",
     "text": [
      "['中', '英', '夾雜', '的', 'example', '，', 'Word2Vec', '應該', '很', 'interesting', '吧', '?']\n"
     ]
    }
   ],
   "source": [
    "print(list(jieba.cut(\"中英夾雜的example，Word2Vec應該很interesting吧?\")))"
   ]
  },
  {
   "cell_type": "markdown",
   "id": "99ee97ea",
   "metadata": {},
   "source": [
    "## 引入停用詞表\n",
    "停用詞就是像英文中的 the,a,this，中文的你我他，與其他詞相比顯得不怎麼重要，對文章主題也無關緊要的，\n",
    "是否要使用停用詞表，其實還是要看你的應用，也有可能保留這些停用詞更能達到你的目標。[1](http://zake7749.github.io/2016/08/28/word2vec-with-gensim/)\n",
    "*   Is it compulsory to remove stop words with word2vec?（https://www.quora.com/Is-it-compulsory-to-remove-stop-words-with-word2vec）\n",
    "*   The Effect of Stopword Filtering prior to Word Embedding Training（https://stats.stackexchange.com/questions/201372/the-effect-of-stopword-filtering-prior-to-word-embedding-training）"
   ]
  },
  {
   "cell_type": "code",
   "execution_count": 3,
   "id": "95205496",
   "metadata": {},
   "outputs": [
    {
     "name": "stdout",
     "output_type": "stream",
     "text": [
      "Collecting spacy\n",
      "  Downloading spacy-3.7.2-cp310-cp310-win_amd64.whl.metadata (26 kB)\n",
      "Collecting spacy-legacy<3.1.0,>=3.0.11 (from spacy)\n",
      "  Downloading spacy_legacy-3.0.12-py2.py3-none-any.whl (29 kB)\n",
      "Collecting spacy-loggers<2.0.0,>=1.0.0 (from spacy)\n",
      "  Downloading spacy_loggers-1.0.5-py3-none-any.whl.metadata (23 kB)\n",
      "Collecting murmurhash<1.1.0,>=0.28.0 (from spacy)\n",
      "  Downloading murmurhash-1.0.10-cp310-cp310-win_amd64.whl.metadata (2.0 kB)\n",
      "Collecting cymem<2.1.0,>=2.0.2 (from spacy)\n",
      "  Downloading cymem-2.0.8-cp310-cp310-win_amd64.whl.metadata (8.6 kB)\n",
      "Collecting preshed<3.1.0,>=3.0.2 (from spacy)\n",
      "  Downloading preshed-3.0.9-cp310-cp310-win_amd64.whl.metadata (2.2 kB)\n",
      "Collecting thinc<8.3.0,>=8.1.8 (from spacy)\n",
      "  Downloading thinc-8.2.2-cp310-cp310-win_amd64.whl.metadata (15 kB)\n",
      "Collecting wasabi<1.2.0,>=0.9.1 (from spacy)\n",
      "  Downloading wasabi-1.1.2-py3-none-any.whl.metadata (28 kB)\n",
      "Collecting srsly<3.0.0,>=2.4.3 (from spacy)\n",
      "  Downloading srsly-2.4.8-cp310-cp310-win_amd64.whl.metadata (20 kB)\n",
      "Collecting catalogue<2.1.0,>=2.0.6 (from spacy)\n",
      "  Downloading catalogue-2.0.10-py3-none-any.whl.metadata (14 kB)\n",
      "Collecting weasel<0.4.0,>=0.1.0 (from spacy)\n",
      "  Downloading weasel-0.3.4-py3-none-any.whl.metadata (4.7 kB)\n",
      "Collecting typer<0.10.0,>=0.3.0 (from spacy)\n",
      "  Downloading typer-0.9.0-py3-none-any.whl (45 kB)\n",
      "     ---------------------------------------- 0.0/45.9 kB ? eta -:--:--\n",
      "     ---------------------------------------- 45.9/45.9 kB 1.1 MB/s eta 0:00:00\n",
      "Requirement already satisfied: smart-open<7.0.0,>=5.2.1 in d:\\miniconda3\\envs\\nlp\\lib\\site-packages (from spacy) (5.2.1)\n",
      "Requirement already satisfied: tqdm<5.0.0,>=4.38.0 in d:\\miniconda3\\envs\\nlp\\lib\\site-packages (from spacy) (4.65.0)\n",
      "Requirement already satisfied: requests<3.0.0,>=2.13.0 in d:\\miniconda3\\envs\\nlp\\lib\\site-packages (from spacy) (2.31.0)\n",
      "Collecting pydantic!=1.8,!=1.8.1,<3.0.0,>=1.7.4 (from spacy)\n",
      "  Downloading pydantic-2.5.3-py3-none-any.whl.metadata (65 kB)\n",
      "     ---------------------------------------- 0.0/65.6 kB ? eta -:--:--\n",
      "     ---------------------------------------- 65.6/65.6 kB 1.7 MB/s eta 0:00:00\n",
      "Requirement already satisfied: jinja2 in d:\\miniconda3\\envs\\nlp\\lib\\site-packages (from spacy) (3.1.2)\n",
      "Requirement already satisfied: setuptools in d:\\miniconda3\\envs\\nlp\\lib\\site-packages (from spacy) (68.0.0)\n",
      "Requirement already satisfied: packaging>=20.0 in d:\\miniconda3\\envs\\nlp\\lib\\site-packages (from spacy) (23.1)\n",
      "Collecting langcodes<4.0.0,>=3.2.0 (from spacy)\n",
      "  Downloading langcodes-3.3.0-py3-none-any.whl (181 kB)\n",
      "     ---------------------------------------- 0.0/181.6 kB ? eta -:--:--\n",
      "     ----------------------- -------------- 112.6/181.6 kB 3.2 MB/s eta 0:00:01\n",
      "     ------------------------------------ - 174.1/181.6 kB 1.7 MB/s eta 0:00:01\n",
      "     -------------------------------------- 181.6/181.6 kB 1.6 MB/s eta 0:00:00\n",
      "Requirement already satisfied: numpy>=1.19.0 in d:\\miniconda3\\envs\\nlp\\lib\\site-packages (from spacy) (1.26.2)\n",
      "Collecting annotated-types>=0.4.0 (from pydantic!=1.8,!=1.8.1,<3.0.0,>=1.7.4->spacy)\n",
      "  Downloading annotated_types-0.6.0-py3-none-any.whl.metadata (12 kB)\n",
      "Collecting pydantic-core==2.14.6 (from pydantic!=1.8,!=1.8.1,<3.0.0,>=1.7.4->spacy)\n",
      "  Downloading pydantic_core-2.14.6-cp310-none-win_amd64.whl.metadata (6.6 kB)\n",
      "Requirement already satisfied: typing-extensions>=4.6.1 in d:\\miniconda3\\envs\\nlp\\lib\\site-packages (from pydantic!=1.8,!=1.8.1,<3.0.0,>=1.7.4->spacy) (4.7.1)\n",
      "Requirement already satisfied: charset-normalizer<4,>=2 in d:\\miniconda3\\envs\\nlp\\lib\\site-packages (from requests<3.0.0,>=2.13.0->spacy) (2.0.4)\n",
      "Requirement already satisfied: idna<4,>=2.5 in d:\\miniconda3\\envs\\nlp\\lib\\site-packages (from requests<3.0.0,>=2.13.0->spacy) (2.10)\n",
      "Requirement already satisfied: urllib3<3,>=1.21.1 in d:\\miniconda3\\envs\\nlp\\lib\\site-packages (from requests<3.0.0,>=2.13.0->spacy) (1.26.18)\n",
      "Requirement already satisfied: certifi>=2017.4.17 in d:\\miniconda3\\envs\\nlp\\lib\\site-packages (from requests<3.0.0,>=2.13.0->spacy) (2023.11.17)\n",
      "Collecting blis<0.8.0,>=0.7.8 (from thinc<8.3.0,>=8.1.8->spacy)\n",
      "  Downloading blis-0.7.11-cp310-cp310-win_amd64.whl.metadata (7.6 kB)\n",
      "Collecting confection<1.0.0,>=0.0.1 (from thinc<8.3.0,>=8.1.8->spacy)\n",
      "  Downloading confection-0.1.4-py3-none-any.whl.metadata (19 kB)\n",
      "Requirement already satisfied: colorama in d:\\miniconda3\\envs\\nlp\\lib\\site-packages (from tqdm<5.0.0,>=4.38.0->spacy) (0.4.6)\n",
      "Requirement already satisfied: click<9.0.0,>=7.1.1 in d:\\miniconda3\\envs\\nlp\\lib\\site-packages (from typer<0.10.0,>=0.3.0->spacy) (8.1.7)\n",
      "Collecting cloudpathlib<0.17.0,>=0.7.0 (from weasel<0.4.0,>=0.1.0->spacy)\n",
      "  Downloading cloudpathlib-0.16.0-py3-none-any.whl.metadata (14 kB)\n",
      "Requirement already satisfied: MarkupSafe>=2.0 in d:\\miniconda3\\envs\\nlp\\lib\\site-packages (from jinja2->spacy) (2.1.1)\n",
      "Downloading spacy-3.7.2-cp310-cp310-win_amd64.whl (12.1 MB)\n",
      "   ---------------------------------------- 0.0/12.1 MB ? eta -:--:--\n",
      "   ---------------------------------------- 0.1/12.1 MB 6.4 MB/s eta 0:00:02\n",
      "    --------------------------------------- 0.2/12.1 MB 2.1 MB/s eta 0:00:06\n",
      "   - -------------------------------------- 0.3/12.1 MB 2.3 MB/s eta 0:00:06\n",
      "   - -------------------------------------- 0.5/12.1 MB 2.2 MB/s eta 0:00:06\n",
      "   - -------------------------------------- 0.6/12.1 MB 2.4 MB/s eta 0:00:05\n",
      "   -- ------------------------------------- 0.7/12.1 MB 2.3 MB/s eta 0:00:05\n",
      "   -- ------------------------------------- 0.8/12.1 MB 2.3 MB/s eta 0:00:05\n",
      "   -- ------------------------------------- 0.9/12.1 MB 2.3 MB/s eta 0:00:05\n",
      "   --- ------------------------------------ 1.0/12.1 MB 2.3 MB/s eta 0:00:05\n",
      "   --- ------------------------------------ 1.2/12.1 MB 2.3 MB/s eta 0:00:05\n",
      "   ---- ----------------------------------- 1.3/12.1 MB 2.4 MB/s eta 0:00:05\n",
      "   ---- ----------------------------------- 1.5/12.1 MB 2.5 MB/s eta 0:00:05\n",
      "   ----- ---------------------------------- 1.6/12.1 MB 2.4 MB/s eta 0:00:05\n",
      "   ----- ---------------------------------- 1.7/12.1 MB 2.4 MB/s eta 0:00:05\n",
      "   ------ --------------------------------- 1.9/12.1 MB 2.4 MB/s eta 0:00:05\n",
      "   ------ --------------------------------- 1.9/12.1 MB 2.3 MB/s eta 0:00:05\n",
      "   ------ --------------------------------- 2.1/12.1 MB 2.3 MB/s eta 0:00:05\n",
      "   ------- -------------------------------- 2.2/12.1 MB 2.3 MB/s eta 0:00:05\n",
      "   ------- -------------------------------- 2.4/12.1 MB 2.4 MB/s eta 0:00:05\n",
      "   -------- ------------------------------- 2.5/12.1 MB 2.4 MB/s eta 0:00:05\n",
      "   -------- ------------------------------- 2.6/12.1 MB 2.4 MB/s eta 0:00:05\n",
      "   -------- ------------------------------- 2.7/12.1 MB 2.3 MB/s eta 0:00:05\n",
      "   --------- ------------------------------ 2.8/12.1 MB 2.3 MB/s eta 0:00:04\n",
      "   --------- ------------------------------ 2.9/12.1 MB 2.3 MB/s eta 0:00:04\n",
      "   ---------- ----------------------------- 3.1/12.1 MB 2.4 MB/s eta 0:00:04\n",
      "   ---------- ----------------------------- 3.1/12.1 MB 2.4 MB/s eta 0:00:04\n",
      "   ---------- ----------------------------- 3.1/12.1 MB 2.4 MB/s eta 0:00:04\n",
      "   ----------- ---------------------------- 3.6/12.1 MB 2.5 MB/s eta 0:00:04\n",
      "   ------------ --------------------------- 3.7/12.1 MB 2.4 MB/s eta 0:00:04\n",
      "   ------------ --------------------------- 3.9/12.1 MB 2.5 MB/s eta 0:00:04\n",
      "   ------------- -------------------------- 4.0/12.1 MB 2.5 MB/s eta 0:00:04\n",
      "   ------------- -------------------------- 4.2/12.1 MB 2.5 MB/s eta 0:00:04\n",
      "   -------------- ------------------------- 4.3/12.1 MB 2.5 MB/s eta 0:00:04\n",
      "   --------------- ------------------------ 4.5/12.1 MB 2.5 MB/s eta 0:00:03\n",
      "   --------------- ------------------------ 4.7/12.1 MB 2.5 MB/s eta 0:00:03\n",
      "   --------------- ------------------------ 4.8/12.1 MB 2.5 MB/s eta 0:00:03\n",
      "   ---------------- ----------------------- 5.0/12.1 MB 2.6 MB/s eta 0:00:03\n",
      "   ----------------- ---------------------- 5.2/12.1 MB 2.6 MB/s eta 0:00:03\n",
      "   ----------------- ---------------------- 5.3/12.1 MB 2.6 MB/s eta 0:00:03\n",
      "   ----------------- ---------------------- 5.4/12.1 MB 2.6 MB/s eta 0:00:03\n",
      "   ------------------ --------------------- 5.5/12.1 MB 2.6 MB/s eta 0:00:03\n",
      "   ------------------ --------------------- 5.7/12.1 MB 2.6 MB/s eta 0:00:03\n",
      "   ------------------- -------------------- 5.9/12.1 MB 2.6 MB/s eta 0:00:03\n",
      "   -------------------- ------------------- 6.1/12.1 MB 2.6 MB/s eta 0:00:03\n",
      "   -------------------- ------------------- 6.2/12.1 MB 2.7 MB/s eta 0:00:03\n",
      "   --------------------- ------------------ 6.4/12.1 MB 2.7 MB/s eta 0:00:03\n",
      "   --------------------- ------------------ 6.6/12.1 MB 2.7 MB/s eta 0:00:03\n",
      "   ---------------------- ----------------- 6.7/12.1 MB 2.7 MB/s eta 0:00:02\n",
      "   ---------------------- ----------------- 6.9/12.1 MB 2.7 MB/s eta 0:00:02\n",
      "   ----------------------- ---------------- 7.1/12.1 MB 2.7 MB/s eta 0:00:02\n",
      "   ----------------------- ---------------- 7.2/12.1 MB 2.7 MB/s eta 0:00:02\n",
      "   ------------------------ --------------- 7.4/12.1 MB 2.7 MB/s eta 0:00:02\n",
      "   ------------------------ --------------- 7.5/12.1 MB 2.7 MB/s eta 0:00:02\n",
      "   ------------------------- -------------- 7.7/12.1 MB 2.7 MB/s eta 0:00:02\n",
      "   ------------------------- -------------- 7.8/12.1 MB 2.7 MB/s eta 0:00:02\n",
      "   -------------------------- ------------- 8.0/12.1 MB 2.7 MB/s eta 0:00:02\n",
      "   --------------------------- ------------ 8.2/12.1 MB 2.7 MB/s eta 0:00:02\n",
      "   --------------------------- ------------ 8.3/12.1 MB 2.7 MB/s eta 0:00:02\n",
      "   --------------------------- ------------ 8.4/12.1 MB 2.8 MB/s eta 0:00:02\n",
      "   ---------------------------- ----------- 8.6/12.1 MB 2.8 MB/s eta 0:00:02\n",
      "   ---------------------------- ----------- 8.7/12.1 MB 2.8 MB/s eta 0:00:02\n",
      "   ----------------------------- ---------- 8.9/12.1 MB 2.8 MB/s eta 0:00:02\n",
      "   ------------------------------ --------- 9.1/12.1 MB 2.8 MB/s eta 0:00:02\n",
      "   ------------------------------ --------- 9.3/12.1 MB 2.8 MB/s eta 0:00:02\n",
      "   ------------------------------- -------- 9.4/12.1 MB 2.8 MB/s eta 0:00:01\n",
      "   ------------------------------- -------- 9.5/12.1 MB 2.8 MB/s eta 0:00:01\n",
      "   -------------------------------- ------- 9.7/12.1 MB 2.8 MB/s eta 0:00:01\n",
      "   -------------------------------- ------- 9.9/12.1 MB 2.8 MB/s eta 0:00:01\n",
      "   --------------------------------- ------ 10.1/12.1 MB 2.8 MB/s eta 0:00:01\n",
      "   ---------------------------------- ----- 10.3/12.1 MB 2.8 MB/s eta 0:00:01\n",
      "   ---------------------------------- ----- 10.5/12.1 MB 2.9 MB/s eta 0:00:01\n",
      "   ----------------------------------- ---- 10.7/12.1 MB 2.9 MB/s eta 0:00:01\n",
      "   ------------------------------------ --- 10.9/12.1 MB 2.9 MB/s eta 0:00:01\n",
      "   ------------------------------------ --- 11.1/12.1 MB 2.9 MB/s eta 0:00:01\n",
      "   ------------------------------------- -- 11.2/12.1 MB 3.0 MB/s eta 0:00:01\n",
      "   ------------------------------------- -- 11.4/12.1 MB 3.0 MB/s eta 0:00:01\n",
      "   -------------------------------------- - 11.5/12.1 MB 3.0 MB/s eta 0:00:01\n",
      "   -------------------------------------- - 11.5/12.1 MB 3.0 MB/s eta 0:00:01\n",
      "   ---------------------------------------  11.8/12.1 MB 2.9 MB/s eta 0:00:01\n",
      "   ---------------------------------------  11.9/12.1 MB 3.0 MB/s eta 0:00:01\n",
      "   ---------------------------------------  12.1/12.1 MB 3.0 MB/s eta 0:00:01\n",
      "   ---------------------------------------  12.1/12.1 MB 3.0 MB/s eta 0:00:01\n",
      "   ---------------------------------------- 12.1/12.1 MB 2.9 MB/s eta 0:00:00\n",
      "Downloading catalogue-2.0.10-py3-none-any.whl (17 kB)\n",
      "Downloading cymem-2.0.8-cp310-cp310-win_amd64.whl (39 kB)\n",
      "Downloading murmurhash-1.0.10-cp310-cp310-win_amd64.whl (25 kB)\n",
      "Downloading preshed-3.0.9-cp310-cp310-win_amd64.whl (122 kB)\n",
      "   ---------------------------------------- 0.0/122.2 kB ? eta -:--:--\n",
      "   ---------------------------------------- 122.2/122.2 kB 2.4 MB/s eta 0:00:00\n",
      "Downloading pydantic-2.5.3-py3-none-any.whl (381 kB)\n",
      "   ---------------------------------------- 0.0/381.9 kB ? eta -:--:--\n",
      "   ---------- ----------------------------- 102.4/381.9 kB 2.9 MB/s eta 0:00:01\n",
      "   ------------------------ --------------- 235.5/381.9 kB 2.9 MB/s eta 0:00:01\n",
      "   ---------------------------------------  378.9/381.9 kB 2.9 MB/s eta 0:00:01\n",
      "   ---------------------------------------- 381.9/381.9 kB 2.6 MB/s eta 0:00:00\n",
      "Downloading pydantic_core-2.14.6-cp310-none-win_amd64.whl (1.9 MB)\n",
      "   ---------------------------------------- 0.0/1.9 MB ? eta -:--:--\n",
      "   --- ------------------------------------ 0.2/1.9 MB 3.3 MB/s eta 0:00:01\n",
      "   ------ --------------------------------- 0.3/1.9 MB 3.1 MB/s eta 0:00:01\n",
      "   ---------- ----------------------------- 0.5/1.9 MB 3.2 MB/s eta 0:00:01\n",
      "   ------------ --------------------------- 0.6/1.9 MB 2.9 MB/s eta 0:00:01\n",
      "   ---------------- ----------------------- 0.8/1.9 MB 3.0 MB/s eta 0:00:01\n",
      "   ------------------- -------------------- 0.9/1.9 MB 2.9 MB/s eta 0:00:01\n",
      "   ---------------------- ----------------- 1.0/1.9 MB 2.9 MB/s eta 0:00:01\n",
      "   ------------------------- -------------- 1.2/1.9 MB 3.0 MB/s eta 0:00:01\n",
      "   ----------------------------- ---------- 1.4/1.9 MB 2.9 MB/s eta 0:00:01\n",
      "   -------------------------------- ------- 1.5/1.9 MB 2.9 MB/s eta 0:00:01\n",
      "   ----------------------------------- ---- 1.7/1.9 MB 3.0 MB/s eta 0:00:01\n",
      "   ----------------------------------- ---- 1.7/1.9 MB 3.0 MB/s eta 0:00:01\n",
      "   ----------------------------------- ---- 1.7/1.9 MB 3.0 MB/s eta 0:00:01\n",
      "   ----------------------------------- ---- 1.7/1.9 MB 3.0 MB/s eta 0:00:01\n",
      "   ----------------------------------- ---- 1.7/1.9 MB 3.0 MB/s eta 0:00:01\n",
      "   ----------------------------------- ---- 1.7/1.9 MB 3.0 MB/s eta 0:00:01\n",
      "   ----------------------------------- ---- 1.7/1.9 MB 3.0 MB/s eta 0:00:01\n",
      "   ----------------------------------- ---- 1.7/1.9 MB 3.0 MB/s eta 0:00:01\n",
      "   ----------------------------------- ---- 1.7/1.9 MB 3.0 MB/s eta 0:00:01\n",
      "   ----------------------------------- ---- 1.7/1.9 MB 3.0 MB/s eta 0:00:01\n",
      "   ----------------------------------- ---- 1.7/1.9 MB 3.0 MB/s eta 0:00:01\n",
      "   ----------------------------------- ---- 1.7/1.9 MB 3.0 MB/s eta 0:00:01\n",
      "   ----------------------------------- ---- 1.7/1.9 MB 1.5 MB/s eta 0:00:01\n",
      "   ----------------------------------- ---- 1.7/1.9 MB 1.5 MB/s eta 0:00:01\n",
      "   ------------------------------------ --- 1.7/1.9 MB 1.3 MB/s eta 0:00:01\n",
      "   ---------------------------------------- 1.9/1.9 MB 1.4 MB/s eta 0:00:00\n",
      "Downloading spacy_loggers-1.0.5-py3-none-any.whl (22 kB)\n",
      "Downloading srsly-2.4.8-cp310-cp310-win_amd64.whl (481 kB)\n",
      "   ---------------------------------------- 0.0/481.9 kB ? eta -:--:--\n",
      "   -- ------------------------------------- 30.7/481.9 kB ? eta -:--:--\n",
      "   ------- ------------------------------- 92.2/481.9 kB 871.5 kB/s eta 0:00:01\n",
      "   -------------- ------------------------- 174.1/481.9 kB 1.2 MB/s eta 0:00:01\n",
      "   ---------------------------- ----------- 337.9/481.9 kB 1.6 MB/s eta 0:00:01\n",
      "   ---------------------------------- ----- 409.6/481.9 kB 1.7 MB/s eta 0:00:01\n",
      "   ---------------------------------------- 481.9/481.9 kB 1.6 MB/s eta 0:00:00\n",
      "Downloading thinc-8.2.2-cp310-cp310-win_amd64.whl (1.5 MB)\n",
      "   ---------------------------------------- 0.0/1.5 MB ? eta -:--:--\n",
      "   - -------------------------------------- 0.1/1.5 MB 1.9 MB/s eta 0:00:01\n",
      "   ----- ---------------------------------- 0.2/1.5 MB 2.9 MB/s eta 0:00:01\n",
      "   --------- ------------------------------ 0.3/1.5 MB 2.6 MB/s eta 0:00:01\n",
      "   ------------ --------------------------- 0.5/1.5 MB 2.5 MB/s eta 0:00:01\n",
      "   --------------- ------------------------ 0.6/1.5 MB 2.4 MB/s eta 0:00:01\n",
      "   ------------------- -------------------- 0.7/1.5 MB 2.4 MB/s eta 0:00:01\n",
      "   ------------------------ --------------- 0.9/1.5 MB 2.6 MB/s eta 0:00:01\n",
      "   --------------------------- ------------ 1.0/1.5 MB 2.5 MB/s eta 0:00:01\n",
      "   -------------------------------- ------- 1.2/1.5 MB 2.6 MB/s eta 0:00:01\n",
      "   ----------------------------------- ---- 1.3/1.5 MB 2.6 MB/s eta 0:00:01\n",
      "   ---------------------------------------  1.5/1.5 MB 2.6 MB/s eta 0:00:01\n",
      "   ---------------------------------------- 1.5/1.5 MB 2.5 MB/s eta 0:00:00\n",
      "Downloading wasabi-1.1.2-py3-none-any.whl (27 kB)\n",
      "Downloading weasel-0.3.4-py3-none-any.whl (50 kB)\n",
      "   ---------------------------------------- 0.0/50.1 kB ? eta -:--:--\n",
      "   ---------------------------------------- 50.1/50.1 kB 2.5 MB/s eta 0:00:00\n",
      "Downloading annotated_types-0.6.0-py3-none-any.whl (12 kB)\n",
      "Downloading blis-0.7.11-cp310-cp310-win_amd64.whl (6.6 MB)\n",
      "   ---------------------------------------- 0.0/6.6 MB ? eta -:--:--\n",
      "   ---------------------------------------- 0.1/6.6 MB 1.6 MB/s eta 0:00:05\n",
      "    --------------------------------------- 0.1/6.6 MB 1.7 MB/s eta 0:00:04\n",
      "   - -------------------------------------- 0.3/6.6 MB 1.9 MB/s eta 0:00:04\n",
      "   -- ------------------------------------- 0.4/6.6 MB 1.9 MB/s eta 0:00:04\n",
      "   --- ------------------------------------ 0.5/6.6 MB 2.0 MB/s eta 0:00:04\n",
      "   --- ------------------------------------ 0.6/6.6 MB 2.1 MB/s eta 0:00:03\n",
      "   ---- ----------------------------------- 0.8/6.6 MB 2.2 MB/s eta 0:00:03\n",
      "   ----- ---------------------------------- 0.9/6.6 MB 2.4 MB/s eta 0:00:03\n",
      "   ------ --------------------------------- 1.0/6.6 MB 2.3 MB/s eta 0:00:03\n",
      "   ------ --------------------------------- 1.2/6.6 MB 2.3 MB/s eta 0:00:03\n",
      "   ------- -------------------------------- 1.3/6.6 MB 2.3 MB/s eta 0:00:03\n",
      "   -------- ------------------------------- 1.4/6.6 MB 2.3 MB/s eta 0:00:03\n",
      "   --------- ------------------------------ 1.5/6.6 MB 2.4 MB/s eta 0:00:03\n",
      "   ---------- ----------------------------- 1.7/6.6 MB 2.3 MB/s eta 0:00:03\n",
      "   ---------- ----------------------------- 1.8/6.6 MB 2.4 MB/s eta 0:00:03\n",
      "   ----------- ---------------------------- 1.8/6.6 MB 2.3 MB/s eta 0:00:03\n",
      "   ------------ --------------------------- 2.0/6.6 MB 2.3 MB/s eta 0:00:02\n",
      "   ------------ --------------------------- 2.1/6.6 MB 2.3 MB/s eta 0:00:02\n",
      "   ------------ --------------------------- 2.1/6.6 MB 2.3 MB/s eta 0:00:02\n",
      "   ------------ --------------------------- 2.1/6.6 MB 2.3 MB/s eta 0:00:02\n",
      "   ------------ --------------------------- 2.1/6.6 MB 2.3 MB/s eta 0:00:02\n",
      "   --------------- ------------------------ 2.6/6.6 MB 2.3 MB/s eta 0:00:02\n",
      "   ---------------- ----------------------- 2.7/6.6 MB 2.3 MB/s eta 0:00:02\n",
      "   ---------------- ----------------------- 2.8/6.6 MB 2.3 MB/s eta 0:00:02\n",
      "   ----------------- ---------------------- 2.9/6.6 MB 2.3 MB/s eta 0:00:02\n",
      "   ------------------ --------------------- 3.0/6.6 MB 2.2 MB/s eta 0:00:02\n",
      "   ------------------ --------------------- 3.1/6.6 MB 2.2 MB/s eta 0:00:02\n",
      "   ------------------- -------------------- 3.2/6.6 MB 2.2 MB/s eta 0:00:02\n",
      "   ------------------- -------------------- 3.3/6.6 MB 2.2 MB/s eta 0:00:02\n",
      "   -------------------- ------------------- 3.4/6.6 MB 2.3 MB/s eta 0:00:02\n",
      "   --------------------- ------------------ 3.6/6.6 MB 2.3 MB/s eta 0:00:02\n",
      "   ---------------------- ----------------- 3.7/6.6 MB 2.2 MB/s eta 0:00:02\n",
      "   ----------------------- ---------------- 3.8/6.6 MB 2.3 MB/s eta 0:00:02\n",
      "   ----------------------- ---------------- 3.9/6.6 MB 2.3 MB/s eta 0:00:02\n",
      "   ------------------------ --------------- 4.1/6.6 MB 2.3 MB/s eta 0:00:02\n",
      "   ------------------------- -------------- 4.2/6.6 MB 2.3 MB/s eta 0:00:02\n",
      "   -------------------------- ------------- 4.4/6.6 MB 2.3 MB/s eta 0:00:01\n",
      "   --------------------------- ------------ 4.5/6.6 MB 2.4 MB/s eta 0:00:01\n",
      "   ---------------------------- ----------- 4.7/6.6 MB 2.4 MB/s eta 0:00:01\n",
      "   ----------------------------- ---------- 4.9/6.6 MB 2.4 MB/s eta 0:00:01\n",
      "   ------------------------------ --------- 5.0/6.6 MB 2.4 MB/s eta 0:00:01\n",
      "   ------------------------------- -------- 5.2/6.6 MB 2.5 MB/s eta 0:00:01\n",
      "   -------------------------------- ------- 5.4/6.6 MB 2.5 MB/s eta 0:00:01\n",
      "   --------------------------------- ------ 5.6/6.6 MB 2.5 MB/s eta 0:00:01\n",
      "   ---------------------------------- ----- 5.7/6.6 MB 2.5 MB/s eta 0:00:01\n",
      "   ----------------------------------- ---- 5.9/6.6 MB 2.5 MB/s eta 0:00:01\n",
      "   ------------------------------------ --- 6.1/6.6 MB 2.5 MB/s eta 0:00:01\n",
      "   ------------------------------------- -- 6.2/6.6 MB 2.5 MB/s eta 0:00:01\n",
      "   -------------------------------------- - 6.4/6.6 MB 2.6 MB/s eta 0:00:01\n",
      "   ---------------------------------------  6.5/6.6 MB 2.5 MB/s eta 0:00:01\n",
      "   ---------------------------------------  6.6/6.6 MB 2.5 MB/s eta 0:00:01\n",
      "   ---------------------------------------  6.6/6.6 MB 2.5 MB/s eta 0:00:01\n",
      "   ---------------------------------------- 6.6/6.6 MB 2.5 MB/s eta 0:00:00\n",
      "Downloading cloudpathlib-0.16.0-py3-none-any.whl (45 kB)\n",
      "   ---------------------------------------- 0.0/45.0 kB ? eta -:--:--\n",
      "   ---------------------------------------- 45.0/45.0 kB 2.2 MB/s eta 0:00:00\n",
      "Downloading confection-0.1.4-py3-none-any.whl (35 kB)\n",
      "Installing collected packages: cymem, wasabi, spacy-loggers, spacy-legacy, pydantic-core, murmurhash, langcodes, cloudpathlib, catalogue, blis, annotated-types, typer, srsly, pydantic, preshed, confection, weasel, thinc, spacy\n",
      "Successfully installed annotated-types-0.6.0 blis-0.7.11 catalogue-2.0.10 cloudpathlib-0.16.0 confection-0.1.4 cymem-2.0.8 langcodes-3.3.0 murmurhash-1.0.10 preshed-3.0.9 pydantic-2.5.3 pydantic-core-2.14.6 spacy-3.7.2 spacy-legacy-3.0.12 spacy-loggers-1.0.5 srsly-2.4.8 thinc-8.2.2 typer-0.9.0 wasabi-1.1.2 weasel-0.3.4\n"
     ]
    },
    {
     "name": "stderr",
     "output_type": "stream",
     "text": [
      "  WARNING: The script weasel.exe is installed in 'C:\\Users\\daocheng\\AppData\\Roaming\\Python\\Python310\\Scripts' which is not on PATH.\n",
      "  Consider adding this directory to PATH or, if you prefer to suppress this warning, use --no-warn-script-location.\n",
      "  WARNING: The script spacy.exe is installed in 'C:\\Users\\daocheng\\AppData\\Roaming\\Python\\Python310\\Scripts' which is not on PATH.\n",
      "  Consider adding this directory to PATH or, if you prefer to suppress this warning, use --no-warn-script-location.\n"
     ]
    }
   ],
   "source": [
    "!pip install spacy --user"
   ]
  },
  {
   "cell_type": "code",
   "execution_count": 18,
   "id": "dedf59b1",
   "metadata": {},
   "outputs": [
    {
     "name": "stdout",
     "output_type": "stream",
     "text": [
      "\u001b[38;5;2m✔ Download and installation successful\u001b[0m\n",
      "You can now load the package via spacy.load('zh_core_web_sm')\n",
      "\u001b[38;5;2m✔ Download and installation successful\u001b[0m\n",
      "You can now load the package via spacy.load('en_core_web_sm')\n",
      "--\n",
      "\n",
      "中文停用詞 Total=1891: ['赶快', '即', '碰巧', '从此以后', '按期', '当下', '一番', '［⑤ａ］', '几', '什麽', '例如', '尽然', '～±', '某个', '来讲', '些', '反之亦然', '比照', '诸位', '重新'] ...\n",
      "--\n",
      "英文停用詞 Total=326: ['anyone', 'how', 'thus', 'in', 'mine', 'whatever', 'may', 'full', 'due', 'hence', 'every', 'front', 'yet', 'perhaps', 'has', 'herein', 'own', 'among', 'would', 'afterwards'] ...\n"
     ]
    }
   ],
   "source": [
    "import spacy\n",
    "\n",
    "# 下載語言模組\n",
    "spacy.cli.download(\"zh_core_web_sm\")  # 下載 spacy 中文模組\n",
    "spacy.cli.download(\"en_core_web_sm\")  # 下載 spacy 英文模組\n",
    "\n",
    "nlp_zh = spacy.load(\"zh_core_web_sm\") # 載入 spacy 中文模組\n",
    "nlp_en = spacy.load(\"en_core_web_sm\") # 載入 spacy 英文模組\n",
    "\n",
    "# 印出前20個停用詞\n",
    "print('--\\n')\n",
    "print(f\"中文停用詞 Total={len(nlp_zh.Defaults.stop_words)}: {list(nlp_zh.Defaults.stop_words)[:20]} ...\")\n",
    "print(\"--\")\n",
    "print(f\"英文停用詞 Total={len(nlp_en.Defaults.stop_words)}: {list(nlp_en.Defaults.stop_words)[:20]} ...\")"
   ]
  },
  {
   "cell_type": "code",
   "execution_count": 19,
   "id": "f96db34c",
   "metadata": {},
   "outputs": [
    {
     "name": "stdout",
     "output_type": "stream",
     "text": [
      "2222\n",
      "3005\n"
     ]
    }
   ],
   "source": [
    "STOPWORDS =  nlp_zh.Defaults.stop_words | \\\n",
    "             nlp_en.Defaults.stop_words | \\\n",
    "             set([\"\\n\", \"\\r\\n\", \"\\t\", \" \", \"\"])\n",
    "print(len(STOPWORDS))\n",
    "\n",
    "# 將簡體停用詞轉成繁體，擴充停用詞表\n",
    "for word in STOPWORDS.copy():\n",
    "    STOPWORDS.add(zhconv.convert(word, \"zh-tw\"))\n",
    "    \n",
    "print(len(STOPWORDS))"
   ]
  },
  {
   "cell_type": "markdown",
   "id": "27a2ea85",
   "metadata": {},
   "source": [
    "# 讀取 wiki 語料庫，並且進行前處理和斷詞\n",
    "維基百科 (wiki.xml.bz2)下載好後，先別急著解壓縮，因為這是一份 xml 文件，裏頭佈滿了各式各樣的標籤，我們得先想辦法送走這群不速之客，不過也別太擔心，gensim 早已看穿了一切，藉由調用 [wikiCorpus](https://radimrehurek.com/gensim/corpora/wikicorpus.html)，我們能很輕鬆的只取出文章的標題和內容。[1](http://zake7749.github.io/2016/08/28/word2vec-with-gensim/)"
   ]
  },
  {
   "cell_type": "code",
   "execution_count": 20,
   "id": "0fc54467",
   "metadata": {},
   "outputs": [],
   "source": [
    "### 文字處理（斷詞+簡轉繁+stop word）\n",
    "def preprocess_and_tokenize(\n",
    "    text: str, token_min_len: int=1, token_max_len: int=15, lower: bool=True) -> List[str]:\n",
    "    if lower:\n",
    "        text  = text.lower()\n",
    "    text = zhconv.convert(text, \"zh-tw\")\n",
    "    return [\n",
    "        token for token in jieba.cut(text, cut_all=False)\n",
    "        if token_min_len <= len(token) <= token_max_len and \\\n",
    "            token not in STOPWORDS\n",
    "    ]"
   ]
  },
  {
   "cell_type": "code",
   "execution_count": 21,
   "id": "baf51a8e",
   "metadata": {},
   "outputs": [
    {
     "name": "stdout",
     "output_type": "stream",
     "text": [
      "['歐幾', '裡得', '西元前', '世紀', '古希臘', '數學家', '幾何', '父', '此畫', '拉斐爾']\n",
      "['來到', '臺北', '板橋', '中華電信']\n",
      "['中', '英', '夾雜', 'example', 'ennn', 'word2vec', 'interesting', 'right']\n"
     ]
    }
   ],
   "source": [
    "print(preprocess_and_tokenize(\"歐幾里得，西元前三世紀的古希臘數學家，現在被認為是幾何之父，此畫為拉斐爾\"))\n",
    "print(preprocess_and_tokenize(\"我来到臺北板橋中華電信\"))\n",
    "print(preprocess_and_tokenize(\"the 中英夾雜的example ennn... ，Word2Vec應該很interesting吧?, right?\"))"
   ]
  },
  {
   "cell_type": "code",
   "execution_count": null,
   "id": "12dc1f59",
   "metadata": {},
   "outputs": [],
   "source": [
    "ZhWiki = \"0zhwiki-latest-abstract-zh-tw3.xml\"\n",
    "print(f\"Parsing {ZhWiki}...\")\n",
    "wiki_corpus = WikiCorpus(ZhWiki, tokenizer_func=preprocess_and_tokenize, token_min_len=1)"
   ]
  },
  {
   "cell_type": "code",
   "execution_count": null,
   "id": "c55678cb",
   "metadata": {},
   "outputs": [],
   "source": [
    "g = wiki_corpus.get_texts()\n",
    "print(next(g)[:10])"
   ]
  },
  {
   "cell_type": "markdown",
   "id": "26906733",
   "metadata": {},
   "source": [
    "# 訓練 Word2Vec"
   ]
  },
  {
   "cell_type": "code",
   "execution_count": null,
   "id": "05fcdf83",
   "metadata": {},
   "outputs": [],
   "source": [
    "from gensim.models import word2vec\n",
    "import multiprocessing\n",
    "\n",
    "max_cpu_counts = multiprocessing.cpu_count()\n",
    "word_dim_size = 300  #  設定 word vector 維度\n",
    "print(f\"Use {max_cpu_counts} workers to train Word2Vec (dim={word_dim_size})\")\n",
    "WIKI_SEG_TXT = \"data/wiki_seg.txt\"\n",
    "\n",
    "# 讀取訓練語句\n",
    "sentences = word2vec.LineSentence(WIKI_SEG_TXT)\n",
    "\n",
    "# 訓練模型\n",
    "model = word2vec.Word2Vec(sentences, size=word_dim_size, workers=max_cpu_counts)\n",
    "\n",
    "# 儲存模型\n",
    "output_model = f\"word2vec.zh.{word_dim_size}.model\"\n",
    "model.save(output_model)"
   ]
  }
 ],
 "metadata": {
  "kernelspec": {
   "display_name": "Python 3 (ipykernel)",
   "language": "python",
   "name": "python3"
  },
  "language_info": {
   "codemirror_mode": {
    "name": "ipython",
    "version": 3
   },
   "file_extension": ".py",
   "mimetype": "text/x-python",
   "name": "python",
   "nbconvert_exporter": "python",
   "pygments_lexer": "ipython3",
   "version": "3.10.13"
  }
 },
 "nbformat": 4,
 "nbformat_minor": 5
}
